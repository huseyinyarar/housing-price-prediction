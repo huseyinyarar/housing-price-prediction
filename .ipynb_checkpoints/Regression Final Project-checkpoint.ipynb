{
 "cells": [
  {
   "cell_type": "markdown",
   "id": "a99414f1",
   "metadata": {},
   "source": [
    "# Bu projede, Konya ilindeki konutların fiyatları ve çeşitli özellikleri web üzerinden toplanarak, bu verilere dayalı olarak konut fiyatlarını tahmin eden bir makine öğrenmesi modeli geliştirildi."
   ]
  },
  {
   "cell_type": "code",
   "execution_count": 1,
   "id": "0173481c",
   "metadata": {},
   "outputs": [],
   "source": [
    "import pandas as pd\n",
    "import seaborn as sns\n",
    "import numpy as np\n",
    "import matplotlib.pyplot as plt\n",
    "pd.set_option('display.max_columns', 50)\n",
    "pd.set_option('display.max_rows', 50)"
   ]
  },
  {
   "cell_type": "code",
   "execution_count": 2,
   "id": "d2b79fe9",
   "metadata": {},
   "outputs": [],
   "source": [
    "df=pd.read_csv(\"konya_satilik_konutlar.csv\")"
   ]
  },
  {
   "cell_type": "markdown",
   "id": "ff0de6cb",
   "metadata": {},
   "source": [
    "## Exploratory Data Analysis (EDA)"
   ]
  },
  {
   "cell_type": "code",
   "execution_count": 3,
   "id": "7958a71d",
   "metadata": {},
   "outputs": [
    {
     "data": {
      "text/html": [
       "<div>\n",
       "<style scoped>\n",
       "    .dataframe tbody tr th:only-of-type {\n",
       "        vertical-align: middle;\n",
       "    }\n",
       "\n",
       "    .dataframe tbody tr th {\n",
       "        vertical-align: top;\n",
       "    }\n",
       "\n",
       "    .dataframe thead th {\n",
       "        text-align: right;\n",
       "    }\n",
       "</style>\n",
       "<table border=\"1\" class=\"dataframe\">\n",
       "  <thead>\n",
       "    <tr style=\"text-align: right;\">\n",
       "      <th></th>\n",
       "      <th>İlan Tarihi</th>\n",
       "      <th>İlan no</th>\n",
       "      <th>Net m²</th>\n",
       "      <th>Brüt m²</th>\n",
       "      <th>Oda Sayısı</th>\n",
       "      <th>Banyo Sayısı</th>\n",
       "      <th>Binadaki Kat Sayısı</th>\n",
       "      <th>Isıtma Tipi</th>\n",
       "      <th>Konut Şekli</th>\n",
       "      <th>Bulunduğu Kat</th>\n",
       "      <th>Bina Yaşı</th>\n",
       "      <th>Kullanım Durumu</th>\n",
       "      <th>Yapının Durumu</th>\n",
       "      <th>Kira Getirisi</th>\n",
       "      <th>Kimden</th>\n",
       "      <th>Krediye Uygun</th>\n",
       "      <th>Location</th>\n",
       "      <th>Price</th>\n",
       "      <th>Görüntülü Ev Gezintisi\\n?</th>\n",
       "      <th>Hayvan Dostu Patili Evler</th>\n",
       "      <th>Mobilya Durumu</th>\n",
       "      <th>Takasa Uygun</th>\n",
       "      <th>Aidat</th>\n",
       "      <th>Tapu Durumu</th>\n",
       "      <th>Ada</th>\n",
       "      <th>Parsel</th>\n",
       "      <th>Yapı Tipi</th>\n",
       "    </tr>\n",
       "  </thead>\n",
       "  <tbody>\n",
       "    <tr>\n",
       "      <th>0</th>\n",
       "      <td>30 Eylül 2024</td>\n",
       "      <td>5145472</td>\n",
       "      <td>115</td>\n",
       "      <td>128m²</td>\n",
       "      <td>3+1</td>\n",
       "      <td>1.0</td>\n",
       "      <td>3</td>\n",
       "      <td>Kombi (Doğalgaz)</td>\n",
       "      <td>Ara Kat</td>\n",
       "      <td>2</td>\n",
       "      <td>26-30 arası</td>\n",
       "      <td>Mülk Sahibi</td>\n",
       "      <td>İkinci El</td>\n",
       "      <td>10.000 TL (aylık)</td>\n",
       "      <td>Danışman</td>\n",
       "      <td>Evet</td>\n",
       "      <td>Yeni, Akşehir\\n, Konya</td>\n",
       "      <td>1.860.000 TL</td>\n",
       "      <td>NaN</td>\n",
       "      <td>NaN</td>\n",
       "      <td>NaN</td>\n",
       "      <td>NaN</td>\n",
       "      <td>NaN</td>\n",
       "      <td>NaN</td>\n",
       "      <td>NaN</td>\n",
       "      <td>NaN</td>\n",
       "      <td>NaN</td>\n",
       "    </tr>\n",
       "    <tr>\n",
       "      <th>1</th>\n",
       "      <td>21 Eylül 2024</td>\n",
       "      <td>5115610</td>\n",
       "      <td>130</td>\n",
       "      <td>141m²</td>\n",
       "      <td>2+1</td>\n",
       "      <td>1.0</td>\n",
       "      <td>5</td>\n",
       "      <td>Kombi (Doğalgaz)</td>\n",
       "      <td>NaN</td>\n",
       "      <td>3</td>\n",
       "      <td>21-25 arası</td>\n",
       "      <td>Kiracılı</td>\n",
       "      <td>NaN</td>\n",
       "      <td>9.000 TL (aylık)</td>\n",
       "      <td>NaN</td>\n",
       "      <td>Hayır</td>\n",
       "      <td>İstasyon, Akşehir\\n, Konya</td>\n",
       "      <td>1.675.000 TL</td>\n",
       "      <td>?</td>\n",
       "      <td>Evet</td>\n",
       "      <td>Eşyasız</td>\n",
       "      <td>NaN</td>\n",
       "      <td>NaN</td>\n",
       "      <td>NaN</td>\n",
       "      <td>NaN</td>\n",
       "      <td>NaN</td>\n",
       "      <td>NaN</td>\n",
       "    </tr>\n",
       "    <tr>\n",
       "      <th>2</th>\n",
       "      <td>26 Eylül 2024</td>\n",
       "      <td>5142613</td>\n",
       "      <td>155</td>\n",
       "      <td>180m²</td>\n",
       "      <td>4+1</td>\n",
       "      <td>2.0</td>\n",
       "      <td>5</td>\n",
       "      <td>NaN</td>\n",
       "      <td>Ara Kat</td>\n",
       "      <td>2</td>\n",
       "      <td>0</td>\n",
       "      <td>Boş</td>\n",
       "      <td>Sıfır</td>\n",
       "      <td>18.000 TL (aylık)</td>\n",
       "      <td>Danışman</td>\n",
       "      <td>Evet</td>\n",
       "      <td>Gazi, Akşehir\\n, Konya</td>\n",
       "      <td>3.500.000 TL</td>\n",
       "      <td>NaN</td>\n",
       "      <td>NaN</td>\n",
       "      <td>Eşyasız</td>\n",
       "      <td>Evet</td>\n",
       "      <td>0 TL (aylık)</td>\n",
       "      <td>NaN</td>\n",
       "      <td>NaN</td>\n",
       "      <td>NaN</td>\n",
       "      <td>NaN</td>\n",
       "    </tr>\n",
       "    <tr>\n",
       "      <th>3</th>\n",
       "      <td>20 Eylül 2024</td>\n",
       "      <td>5055209</td>\n",
       "      <td>130</td>\n",
       "      <td>145m²</td>\n",
       "      <td>2+1</td>\n",
       "      <td>1.0</td>\n",
       "      <td>NaN</td>\n",
       "      <td>Kalorifer (Doğalgaz)</td>\n",
       "      <td>Bahçe Dubleksi</td>\n",
       "      <td>1</td>\n",
       "      <td>NaN</td>\n",
       "      <td>NaN</td>\n",
       "      <td>NaN</td>\n",
       "      <td>NaN</td>\n",
       "      <td>NaN</td>\n",
       "      <td>Hayır</td>\n",
       "      <td>Kileci, Akşehir\\n, Konya</td>\n",
       "      <td>1.625.000.000 TL</td>\n",
       "      <td>NaN</td>\n",
       "      <td>NaN</td>\n",
       "      <td>NaN</td>\n",
       "      <td>NaN</td>\n",
       "      <td>NaN</td>\n",
       "      <td>NaN</td>\n",
       "      <td>NaN</td>\n",
       "      <td>NaN</td>\n",
       "      <td>NaN</td>\n",
       "    </tr>\n",
       "    <tr>\n",
       "      <th>4</th>\n",
       "      <td>18 Eylül 2024</td>\n",
       "      <td>5137354</td>\n",
       "      <td>145</td>\n",
       "      <td>165m²</td>\n",
       "      <td>3+1</td>\n",
       "      <td>1.0</td>\n",
       "      <td>5</td>\n",
       "      <td>Kombi (Doğalgaz)</td>\n",
       "      <td>Ara Kat</td>\n",
       "      <td>4</td>\n",
       "      <td>6-10 arası</td>\n",
       "      <td>Boş</td>\n",
       "      <td>İkinci El</td>\n",
       "      <td>17.000 TL (aylık)</td>\n",
       "      <td>Danışman</td>\n",
       "      <td>Evet</td>\n",
       "      <td>Yeni, Akşehir\\n, Konya</td>\n",
       "      <td>3.550.000 TL</td>\n",
       "      <td>NaN</td>\n",
       "      <td>NaN</td>\n",
       "      <td>Eşyasız</td>\n",
       "      <td>NaN</td>\n",
       "      <td>0 TL (aylık)</td>\n",
       "      <td>NaN</td>\n",
       "      <td>NaN</td>\n",
       "      <td>NaN</td>\n",
       "      <td>NaN</td>\n",
       "    </tr>\n",
       "  </tbody>\n",
       "</table>\n",
       "</div>"
      ],
      "text/plain": [
       "     İlan Tarihi  İlan no  Net m² Brüt m² Oda Sayısı  Banyo Sayısı  \\\n",
       "0  30 Eylül 2024  5145472     115   128m²        3+1           1.0   \n",
       "1  21 Eylül 2024  5115610     130   141m²        2+1           1.0   \n",
       "2  26 Eylül 2024  5142613     155   180m²        4+1           2.0   \n",
       "3  20 Eylül 2024  5055209     130   145m²        2+1           1.0   \n",
       "4  18 Eylül 2024  5137354     145   165m²        3+1           1.0   \n",
       "\n",
       "  Binadaki Kat Sayısı           Isıtma Tipi     Konut Şekli Bulunduğu Kat  \\\n",
       "0                   3      Kombi (Doğalgaz)         Ara Kat             2   \n",
       "1                   5      Kombi (Doğalgaz)             NaN             3   \n",
       "2                   5                   NaN         Ara Kat             2   \n",
       "3                 NaN  Kalorifer (Doğalgaz)  Bahçe Dubleksi             1   \n",
       "4                   5      Kombi (Doğalgaz)         Ara Kat             4   \n",
       "\n",
       "     Bina Yaşı Kullanım Durumu Yapının Durumu      Kira Getirisi    Kimden  \\\n",
       "0  26-30 arası     Mülk Sahibi      İkinci El  10.000 TL (aylık)  Danışman   \n",
       "1  21-25 arası        Kiracılı            NaN   9.000 TL (aylık)       NaN   \n",
       "2            0             Boş          Sıfır  18.000 TL (aylık)  Danışman   \n",
       "3          NaN             NaN            NaN                NaN       NaN   \n",
       "4   6-10 arası             Boş      İkinci El  17.000 TL (aylık)  Danışman   \n",
       "\n",
       "  Krediye Uygun                    Location             Price  \\\n",
       "0          Evet      Yeni, Akşehir\\n, Konya      1.860.000 TL   \n",
       "1         Hayır  İstasyon, Akşehir\\n, Konya      1.675.000 TL   \n",
       "2          Evet      Gazi, Akşehir\\n, Konya      3.500.000 TL   \n",
       "3         Hayır    Kileci, Akşehir\\n, Konya  1.625.000.000 TL   \n",
       "4          Evet      Yeni, Akşehir\\n, Konya      3.550.000 TL   \n",
       "\n",
       "  Görüntülü Ev Gezintisi\\n? Hayvan Dostu Patili Evler Mobilya Durumu  \\\n",
       "0                       NaN                       NaN            NaN   \n",
       "1                         ?                      Evet        Eşyasız   \n",
       "2                       NaN                       NaN        Eşyasız   \n",
       "3                       NaN                       NaN            NaN   \n",
       "4                       NaN                       NaN        Eşyasız   \n",
       "\n",
       "  Takasa Uygun         Aidat Tapu Durumu  Ada  Parsel Yapı Tipi  \n",
       "0          NaN           NaN         NaN  NaN     NaN       NaN  \n",
       "1          NaN           NaN         NaN  NaN     NaN       NaN  \n",
       "2         Evet  0 TL (aylık)         NaN  NaN     NaN       NaN  \n",
       "3          NaN           NaN         NaN  NaN     NaN       NaN  \n",
       "4          NaN  0 TL (aylık)         NaN  NaN     NaN       NaN  "
      ]
     },
     "execution_count": 3,
     "metadata": {},
     "output_type": "execute_result"
    }
   ],
   "source": [
    "df.head()"
   ]
  },
  {
   "cell_type": "code",
   "execution_count": 4,
   "id": "6c588c27",
   "metadata": {},
   "outputs": [
    {
     "data": {
      "text/plain": [
       "(295, 27)"
      ]
     },
     "execution_count": 4,
     "metadata": {},
     "output_type": "execute_result"
    }
   ],
   "source": [
    "df.shape"
   ]
  },
  {
   "cell_type": "code",
   "execution_count": 5,
   "id": "aff221a0",
   "metadata": {},
   "outputs": [
    {
     "data": {
      "text/plain": [
       "Index(['İlan Tarihi', 'İlan no', 'Net m²', 'Brüt m²', 'Oda Sayısı',\n",
       "       'Banyo Sayısı', 'Binadaki Kat Sayısı', 'Isıtma Tipi', 'Konut Şekli',\n",
       "       'Bulunduğu Kat', 'Bina Yaşı', 'Kullanım Durumu', 'Yapının Durumu',\n",
       "       'Kira Getirisi', 'Kimden', 'Krediye Uygun', 'Location', 'Price',\n",
       "       'Görüntülü Ev Gezintisi\\n?', 'Hayvan Dostu Patili Evler',\n",
       "       'Mobilya Durumu', 'Takasa Uygun', 'Aidat', 'Tapu Durumu', 'Ada',\n",
       "       'Parsel', 'Yapı Tipi'],\n",
       "      dtype='object')"
      ]
     },
     "execution_count": 5,
     "metadata": {},
     "output_type": "execute_result"
    }
   ],
   "source": [
    "df.columns"
   ]
  },
  {
   "cell_type": "code",
   "execution_count": 6,
   "id": "7e801729",
   "metadata": {},
   "outputs": [
    {
     "name": "stdout",
     "output_type": "stream",
     "text": [
      "<class 'pandas.core.frame.DataFrame'>\n",
      "RangeIndex: 295 entries, 0 to 294\n",
      "Data columns (total 27 columns):\n",
      " #   Column                     Non-Null Count  Dtype  \n",
      "---  ------                     --------------  -----  \n",
      " 0   İlan Tarihi                295 non-null    object \n",
      " 1   İlan no                    295 non-null    int64  \n",
      " 2   Net m²                     295 non-null    int64  \n",
      " 3   Brüt m²                    295 non-null    object \n",
      " 4   Oda Sayısı                 290 non-null    object \n",
      " 5   Banyo Sayısı               290 non-null    float64\n",
      " 6   Binadaki Kat Sayısı        257 non-null    object \n",
      " 7   Isıtma Tipi                227 non-null    object \n",
      " 8   Konut Şekli                138 non-null    object \n",
      " 9   Bulunduğu Kat              238 non-null    object \n",
      " 10  Bina Yaşı                  217 non-null    object \n",
      " 11  Kullanım Durumu            214 non-null    object \n",
      " 12  Yapının Durumu             131 non-null    object \n",
      " 13  Kira Getirisi              139 non-null    object \n",
      " 14  Kimden                     106 non-null    object \n",
      " 15  Krediye Uygun              295 non-null    object \n",
      " 16  Location                   295 non-null    object \n",
      " 17  Price                      295 non-null    object \n",
      " 18  Görüntülü Ev Gezintisi\n",
      "?   32 non-null     object \n",
      " 19  Hayvan Dostu Patili Evler  10 non-null     object \n",
      " 20  Mobilya Durumu             90 non-null     object \n",
      " 21  Takasa Uygun               79 non-null     object \n",
      " 22  Aidat                      84 non-null     object \n",
      " 23  Tapu Durumu                45 non-null     object \n",
      " 24  Ada                        3 non-null      float64\n",
      " 25  Parsel                     3 non-null      float64\n",
      " 26  Yapı Tipi                  2 non-null      object \n",
      "dtypes: float64(3), int64(2), object(22)\n",
      "memory usage: 62.4+ KB\n"
     ]
    }
   ],
   "source": [
    "df.info()"
   ]
  },
  {
   "cell_type": "code",
   "execution_count": 7,
   "id": "309e20ea",
   "metadata": {
    "scrolled": true
   },
   "outputs": [
    {
     "data": {
      "text/plain": [
       "İlan Tarihi                    0\n",
       "İlan no                        0\n",
       "Net m²                         0\n",
       "Brüt m²                        0\n",
       "Oda Sayısı                     5\n",
       "Banyo Sayısı                   5\n",
       "Binadaki Kat Sayısı           38\n",
       "Isıtma Tipi                   68\n",
       "Konut Şekli                  157\n",
       "Bulunduğu Kat                 57\n",
       "Bina Yaşı                     78\n",
       "Kullanım Durumu               81\n",
       "Yapının Durumu               164\n",
       "Kira Getirisi                156\n",
       "Kimden                       189\n",
       "Krediye Uygun                  0\n",
       "Location                       0\n",
       "Price                          0\n",
       "Görüntülü Ev Gezintisi\\n?    263\n",
       "Hayvan Dostu Patili Evler    285\n",
       "Mobilya Durumu               205\n",
       "Takasa Uygun                 216\n",
       "Aidat                        211\n",
       "Tapu Durumu                  250\n",
       "Ada                          292\n",
       "Parsel                       292\n",
       "Yapı Tipi                    293\n",
       "dtype: int64"
      ]
     },
     "execution_count": 7,
     "metadata": {},
     "output_type": "execute_result"
    }
   ],
   "source": [
    "df.isnull().sum()"
   ]
  },
  {
   "cell_type": "code",
   "execution_count": 8,
   "id": "328232ea",
   "metadata": {},
   "outputs": [
    {
     "data": {
      "text/html": [
       "<div>\n",
       "<style scoped>\n",
       "    .dataframe tbody tr th:only-of-type {\n",
       "        vertical-align: middle;\n",
       "    }\n",
       "\n",
       "    .dataframe tbody tr th {\n",
       "        vertical-align: top;\n",
       "    }\n",
       "\n",
       "    .dataframe thead th {\n",
       "        text-align: right;\n",
       "    }\n",
       "</style>\n",
       "<table border=\"1\" class=\"dataframe\">\n",
       "  <thead>\n",
       "    <tr style=\"text-align: right;\">\n",
       "      <th></th>\n",
       "      <th>İlan Tarihi</th>\n",
       "      <th>İlan no</th>\n",
       "      <th>Net m²</th>\n",
       "      <th>Brüt m²</th>\n",
       "      <th>Oda Sayısı</th>\n",
       "      <th>Banyo Sayısı</th>\n",
       "      <th>Binadaki Kat Sayısı</th>\n",
       "      <th>Isıtma Tipi</th>\n",
       "      <th>Konut Şekli</th>\n",
       "      <th>Bulunduğu Kat</th>\n",
       "      <th>Bina Yaşı</th>\n",
       "      <th>Kullanım Durumu</th>\n",
       "      <th>Yapının Durumu</th>\n",
       "      <th>Kira Getirisi</th>\n",
       "      <th>Kimden</th>\n",
       "      <th>Krediye Uygun</th>\n",
       "      <th>Location</th>\n",
       "      <th>Price</th>\n",
       "      <th>Görüntülü Ev Gezintisi\\n?</th>\n",
       "      <th>Hayvan Dostu Patili Evler</th>\n",
       "      <th>Mobilya Durumu</th>\n",
       "      <th>Takasa Uygun</th>\n",
       "      <th>Aidat</th>\n",
       "      <th>Tapu Durumu</th>\n",
       "      <th>Ada</th>\n",
       "      <th>Parsel</th>\n",
       "      <th>Yapı Tipi</th>\n",
       "    </tr>\n",
       "  </thead>\n",
       "  <tbody>\n",
       "    <tr>\n",
       "      <th>290</th>\n",
       "      <td>25 Ağustos 2024</td>\n",
       "      <td>4554764</td>\n",
       "      <td>110</td>\n",
       "      <td>160m²</td>\n",
       "      <td>3+1</td>\n",
       "      <td>1.0</td>\n",
       "      <td>3</td>\n",
       "      <td>Kombi (Doğalgaz)</td>\n",
       "      <td>Giriş Kat</td>\n",
       "      <td>2</td>\n",
       "      <td>0</td>\n",
       "      <td>Boş</td>\n",
       "      <td>Sıfır</td>\n",
       "      <td>25.000 TL (aylık)</td>\n",
       "      <td>NaN</td>\n",
       "      <td>Evet</td>\n",
       "      <td>Selahaddin Eyyubi, Selçuklu\\n, Konya</td>\n",
       "      <td>3.650.000 TL</td>\n",
       "      <td>?</td>\n",
       "      <td>NaN</td>\n",
       "      <td>Eşyasız</td>\n",
       "      <td>NaN</td>\n",
       "      <td>NaN</td>\n",
       "      <td>İskanı Alınmış</td>\n",
       "      <td>NaN</td>\n",
       "      <td>NaN</td>\n",
       "      <td>NaN</td>\n",
       "    </tr>\n",
       "    <tr>\n",
       "      <th>291</th>\n",
       "      <td>5 Ekim 2023</td>\n",
       "      <td>4876296</td>\n",
       "      <td>190</td>\n",
       "      <td>220m²</td>\n",
       "      <td>3+1</td>\n",
       "      <td>2.0</td>\n",
       "      <td>7</td>\n",
       "      <td>Merkezi Sistem</td>\n",
       "      <td>NaN</td>\n",
       "      <td>7</td>\n",
       "      <td>21-25 arası</td>\n",
       "      <td>Kiracılı</td>\n",
       "      <td>İkinci El</td>\n",
       "      <td>0 TL (aylık)</td>\n",
       "      <td>NaN</td>\n",
       "      <td>Evet</td>\n",
       "      <td>Işıklar, Selçuklu\\n, Konya</td>\n",
       "      <td>2.150.000 TL</td>\n",
       "      <td>NaN</td>\n",
       "      <td>NaN</td>\n",
       "      <td>NaN</td>\n",
       "      <td>NaN</td>\n",
       "      <td>0 TL (aylık)</td>\n",
       "      <td>NaN</td>\n",
       "      <td>NaN</td>\n",
       "      <td>NaN</td>\n",
       "      <td>NaN</td>\n",
       "    </tr>\n",
       "    <tr>\n",
       "      <th>292</th>\n",
       "      <td>16 Şubat 2024</td>\n",
       "      <td>5024026</td>\n",
       "      <td>155</td>\n",
       "      <td>170m²</td>\n",
       "      <td>3+1</td>\n",
       "      <td>1.0</td>\n",
       "      <td>6</td>\n",
       "      <td>Yerden Isıtma</td>\n",
       "      <td>NaN</td>\n",
       "      <td>3</td>\n",
       "      <td>0</td>\n",
       "      <td>Boş</td>\n",
       "      <td>NaN</td>\n",
       "      <td>0 TL (aylık)</td>\n",
       "      <td>NaN</td>\n",
       "      <td>Hayır</td>\n",
       "      <td>Aşağıpınarbaşı, Selçuklu\\n, Konya</td>\n",
       "      <td>750.000 TL</td>\n",
       "      <td>NaN</td>\n",
       "      <td>NaN</td>\n",
       "      <td>Eşyasız</td>\n",
       "      <td>Evet</td>\n",
       "      <td>0 TL (aylık)</td>\n",
       "      <td>NaN</td>\n",
       "      <td>NaN</td>\n",
       "      <td>NaN</td>\n",
       "      <td>NaN</td>\n",
       "    </tr>\n",
       "    <tr>\n",
       "      <th>293</th>\n",
       "      <td>19 Şubat 2024</td>\n",
       "      <td>5025599</td>\n",
       "      <td>130</td>\n",
       "      <td>170m²</td>\n",
       "      <td>3+1</td>\n",
       "      <td>1.0</td>\n",
       "      <td>6</td>\n",
       "      <td>Kombi (Doğalgaz)</td>\n",
       "      <td>NaN</td>\n",
       "      <td>3</td>\n",
       "      <td>0</td>\n",
       "      <td>Boş</td>\n",
       "      <td>NaN</td>\n",
       "      <td>0 TL (aylık)</td>\n",
       "      <td>NaN</td>\n",
       "      <td>Evet</td>\n",
       "      <td>Kayacıkaraplar, Karatay\\n, Konya</td>\n",
       "      <td>2.850.000 TL</td>\n",
       "      <td>NaN</td>\n",
       "      <td>NaN</td>\n",
       "      <td>Eşyasız</td>\n",
       "      <td>NaN</td>\n",
       "      <td>0 TL (aylık)</td>\n",
       "      <td>Kat İrtifakı</td>\n",
       "      <td>NaN</td>\n",
       "      <td>NaN</td>\n",
       "      <td>NaN</td>\n",
       "    </tr>\n",
       "    <tr>\n",
       "      <th>294</th>\n",
       "      <td>19 Şubat 2024</td>\n",
       "      <td>5025599</td>\n",
       "      <td>130</td>\n",
       "      <td>170m²</td>\n",
       "      <td>3+1</td>\n",
       "      <td>1.0</td>\n",
       "      <td>6</td>\n",
       "      <td>Kombi (Doğalgaz)</td>\n",
       "      <td>NaN</td>\n",
       "      <td>3</td>\n",
       "      <td>0</td>\n",
       "      <td>Boş</td>\n",
       "      <td>NaN</td>\n",
       "      <td>0 TL (aylık)</td>\n",
       "      <td>NaN</td>\n",
       "      <td>Evet</td>\n",
       "      <td>Kayacıkaraplar, Karatay\\n, Konya</td>\n",
       "      <td>2.850.000 TL</td>\n",
       "      <td>NaN</td>\n",
       "      <td>NaN</td>\n",
       "      <td>Eşyasız</td>\n",
       "      <td>NaN</td>\n",
       "      <td>0 TL (aylık)</td>\n",
       "      <td>Kat İrtifakı</td>\n",
       "      <td>NaN</td>\n",
       "      <td>NaN</td>\n",
       "      <td>NaN</td>\n",
       "    </tr>\n",
       "  </tbody>\n",
       "</table>\n",
       "</div>"
      ],
      "text/plain": [
       "         İlan Tarihi  İlan no  Net m² Brüt m² Oda Sayısı  Banyo Sayısı  \\\n",
       "290  25 Ağustos 2024  4554764     110   160m²        3+1           1.0   \n",
       "291      5 Ekim 2023  4876296     190   220m²        3+1           2.0   \n",
       "292    16 Şubat 2024  5024026     155   170m²        3+1           1.0   \n",
       "293    19 Şubat 2024  5025599     130   170m²        3+1           1.0   \n",
       "294    19 Şubat 2024  5025599     130   170m²        3+1           1.0   \n",
       "\n",
       "    Binadaki Kat Sayısı       Isıtma Tipi Konut Şekli Bulunduğu Kat  \\\n",
       "290                   3  Kombi (Doğalgaz)   Giriş Kat             2   \n",
       "291                   7    Merkezi Sistem         NaN             7   \n",
       "292                   6     Yerden Isıtma         NaN             3   \n",
       "293                   6  Kombi (Doğalgaz)         NaN             3   \n",
       "294                   6  Kombi (Doğalgaz)         NaN             3   \n",
       "\n",
       "       Bina Yaşı Kullanım Durumu Yapının Durumu      Kira Getirisi Kimden  \\\n",
       "290            0             Boş          Sıfır  25.000 TL (aylık)    NaN   \n",
       "291  21-25 arası        Kiracılı      İkinci El       0 TL (aylık)    NaN   \n",
       "292            0             Boş            NaN       0 TL (aylık)    NaN   \n",
       "293            0             Boş            NaN       0 TL (aylık)    NaN   \n",
       "294            0             Boş            NaN       0 TL (aylık)    NaN   \n",
       "\n",
       "    Krediye Uygun                              Location         Price  \\\n",
       "290          Evet  Selahaddin Eyyubi, Selçuklu\\n, Konya  3.650.000 TL   \n",
       "291          Evet            Işıklar, Selçuklu\\n, Konya  2.150.000 TL   \n",
       "292         Hayır     Aşağıpınarbaşı, Selçuklu\\n, Konya    750.000 TL   \n",
       "293          Evet      Kayacıkaraplar, Karatay\\n, Konya  2.850.000 TL   \n",
       "294          Evet      Kayacıkaraplar, Karatay\\n, Konya  2.850.000 TL   \n",
       "\n",
       "    Görüntülü Ev Gezintisi\\n? Hayvan Dostu Patili Evler Mobilya Durumu  \\\n",
       "290                         ?                       NaN        Eşyasız   \n",
       "291                       NaN                       NaN            NaN   \n",
       "292                       NaN                       NaN        Eşyasız   \n",
       "293                       NaN                       NaN        Eşyasız   \n",
       "294                       NaN                       NaN        Eşyasız   \n",
       "\n",
       "    Takasa Uygun         Aidat     Tapu Durumu  Ada  Parsel Yapı Tipi  \n",
       "290          NaN           NaN  İskanı Alınmış  NaN     NaN       NaN  \n",
       "291          NaN  0 TL (aylık)             NaN  NaN     NaN       NaN  \n",
       "292         Evet  0 TL (aylık)             NaN  NaN     NaN       NaN  \n",
       "293          NaN  0 TL (aylık)    Kat İrtifakı  NaN     NaN       NaN  \n",
       "294          NaN  0 TL (aylık)    Kat İrtifakı  NaN     NaN       NaN  "
      ]
     },
     "execution_count": 8,
     "metadata": {},
     "output_type": "execute_result"
    }
   ],
   "source": [
    "df.tail()"
   ]
  },
  {
   "cell_type": "markdown",
   "id": "c07dd2fc",
   "metadata": {},
   "source": [
    "# Veri Doldurma Fonksiyonu"
   ]
  },
  {
   "cell_type": "code",
   "execution_count": 11,
   "id": "693cdbb3",
   "metadata": {},
   "outputs": [],
   "source": [
    "from sklearn.impute import KNNImputer\n",
    "import pandas as pd\n",
    "\n",
    "def knn_impute_columns(df, columns, n_neighbors=5):\n",
    "    df_selected = df[columns]   \n",
    "    knn = KNNImputer(n_neighbors=n_neighbors)\n",
    "    imputed_data = knn.fit_transform(df_selected)\n",
    "    df_imputed = pd.DataFrame(imputed_data, columns=columns, index=df.index)\n",
    "    df.update(df_imputed)\n",
    "    return df"
   ]
  },
  {
   "cell_type": "markdown",
   "id": "5b81e49c",
   "metadata": {},
   "source": [
    "## Veri Temizleme Ve Boş Verileri Doldurma "
   ]
  },
  {
   "cell_type": "code",
   "execution_count": 12,
   "id": "8e955f99",
   "metadata": {},
   "outputs": [],
   "source": [
    "# İşimize yarayabilecekleri alıyoruz"
   ]
  },
  {
   "cell_type": "code",
   "execution_count": 13,
   "id": "42cbf8fc",
   "metadata": {},
   "outputs": [],
   "source": [
    "df.columns = df.columns.str.replace(' ', '_')"
   ]
  },
  {
   "cell_type": "code",
   "execution_count": 14,
   "id": "5a655184",
   "metadata": {},
   "outputs": [],
   "source": [
    "df = df[['İlan_no','Net_m²','Brüt_m²','Oda_Sayısı','Banyo_Sayısı', 'Binadaki_Kat_Sayısı', 'Isıtma_Tipi', 'Bulunduğu_Kat',\n",
    "         'Bina_Yaşı','Kira_Getirisi', 'Location', 'Price']]"
   ]
  },
  {
   "cell_type": "code",
   "execution_count": 15,
   "id": "9dcf538d",
   "metadata": {
    "scrolled": true
   },
   "outputs": [
    {
     "data": {
      "text/html": [
       "<div>\n",
       "<style scoped>\n",
       "    .dataframe tbody tr th:only-of-type {\n",
       "        vertical-align: middle;\n",
       "    }\n",
       "\n",
       "    .dataframe tbody tr th {\n",
       "        vertical-align: top;\n",
       "    }\n",
       "\n",
       "    .dataframe thead th {\n",
       "        text-align: right;\n",
       "    }\n",
       "</style>\n",
       "<table border=\"1\" class=\"dataframe\">\n",
       "  <thead>\n",
       "    <tr style=\"text-align: right;\">\n",
       "      <th></th>\n",
       "      <th>İlan_no</th>\n",
       "      <th>Net_m²</th>\n",
       "      <th>Brüt_m²</th>\n",
       "      <th>Oda_Sayısı</th>\n",
       "      <th>Banyo_Sayısı</th>\n",
       "      <th>Binadaki_Kat_Sayısı</th>\n",
       "      <th>Isıtma_Tipi</th>\n",
       "      <th>Bulunduğu_Kat</th>\n",
       "      <th>Bina_Yaşı</th>\n",
       "      <th>Kira_Getirisi</th>\n",
       "      <th>Location</th>\n",
       "      <th>Price</th>\n",
       "    </tr>\n",
       "  </thead>\n",
       "  <tbody>\n",
       "    <tr>\n",
       "      <th>0</th>\n",
       "      <td>5145472</td>\n",
       "      <td>115</td>\n",
       "      <td>128m²</td>\n",
       "      <td>3+1</td>\n",
       "      <td>1.0</td>\n",
       "      <td>3</td>\n",
       "      <td>Kombi (Doğalgaz)</td>\n",
       "      <td>2</td>\n",
       "      <td>26-30 arası</td>\n",
       "      <td>10.000 TL (aylık)</td>\n",
       "      <td>Yeni, Akşehir\\n, Konya</td>\n",
       "      <td>1.860.000 TL</td>\n",
       "    </tr>\n",
       "    <tr>\n",
       "      <th>1</th>\n",
       "      <td>5115610</td>\n",
       "      <td>130</td>\n",
       "      <td>141m²</td>\n",
       "      <td>2+1</td>\n",
       "      <td>1.0</td>\n",
       "      <td>5</td>\n",
       "      <td>Kombi (Doğalgaz)</td>\n",
       "      <td>3</td>\n",
       "      <td>21-25 arası</td>\n",
       "      <td>9.000 TL (aylık)</td>\n",
       "      <td>İstasyon, Akşehir\\n, Konya</td>\n",
       "      <td>1.675.000 TL</td>\n",
       "    </tr>\n",
       "    <tr>\n",
       "      <th>2</th>\n",
       "      <td>5142613</td>\n",
       "      <td>155</td>\n",
       "      <td>180m²</td>\n",
       "      <td>4+1</td>\n",
       "      <td>2.0</td>\n",
       "      <td>5</td>\n",
       "      <td>NaN</td>\n",
       "      <td>2</td>\n",
       "      <td>0</td>\n",
       "      <td>18.000 TL (aylık)</td>\n",
       "      <td>Gazi, Akşehir\\n, Konya</td>\n",
       "      <td>3.500.000 TL</td>\n",
       "    </tr>\n",
       "    <tr>\n",
       "      <th>3</th>\n",
       "      <td>5055209</td>\n",
       "      <td>130</td>\n",
       "      <td>145m²</td>\n",
       "      <td>2+1</td>\n",
       "      <td>1.0</td>\n",
       "      <td>NaN</td>\n",
       "      <td>Kalorifer (Doğalgaz)</td>\n",
       "      <td>1</td>\n",
       "      <td>NaN</td>\n",
       "      <td>NaN</td>\n",
       "      <td>Kileci, Akşehir\\n, Konya</td>\n",
       "      <td>1.625.000.000 TL</td>\n",
       "    </tr>\n",
       "    <tr>\n",
       "      <th>4</th>\n",
       "      <td>5137354</td>\n",
       "      <td>145</td>\n",
       "      <td>165m²</td>\n",
       "      <td>3+1</td>\n",
       "      <td>1.0</td>\n",
       "      <td>5</td>\n",
       "      <td>Kombi (Doğalgaz)</td>\n",
       "      <td>4</td>\n",
       "      <td>6-10 arası</td>\n",
       "      <td>17.000 TL (aylık)</td>\n",
       "      <td>Yeni, Akşehir\\n, Konya</td>\n",
       "      <td>3.550.000 TL</td>\n",
       "    </tr>\n",
       "  </tbody>\n",
       "</table>\n",
       "</div>"
      ],
      "text/plain": [
       "   İlan_no  Net_m² Brüt_m² Oda_Sayısı  Banyo_Sayısı Binadaki_Kat_Sayısı  \\\n",
       "0  5145472     115   128m²        3+1           1.0                   3   \n",
       "1  5115610     130   141m²        2+1           1.0                   5   \n",
       "2  5142613     155   180m²        4+1           2.0                   5   \n",
       "3  5055209     130   145m²        2+1           1.0                 NaN   \n",
       "4  5137354     145   165m²        3+1           1.0                   5   \n",
       "\n",
       "            Isıtma_Tipi Bulunduğu_Kat    Bina_Yaşı      Kira_Getirisi  \\\n",
       "0      Kombi (Doğalgaz)             2  26-30 arası  10.000 TL (aylık)   \n",
       "1      Kombi (Doğalgaz)             3  21-25 arası   9.000 TL (aylık)   \n",
       "2                   NaN             2            0  18.000 TL (aylık)   \n",
       "3  Kalorifer (Doğalgaz)             1          NaN                NaN   \n",
       "4      Kombi (Doğalgaz)             4   6-10 arası  17.000 TL (aylık)   \n",
       "\n",
       "                     Location             Price  \n",
       "0      Yeni, Akşehir\\n, Konya      1.860.000 TL  \n",
       "1  İstasyon, Akşehir\\n, Konya      1.675.000 TL  \n",
       "2      Gazi, Akşehir\\n, Konya      3.500.000 TL  \n",
       "3    Kileci, Akşehir\\n, Konya  1.625.000.000 TL  \n",
       "4      Yeni, Akşehir\\n, Konya      3.550.000 TL  "
      ]
     },
     "execution_count": 15,
     "metadata": {},
     "output_type": "execute_result"
    }
   ],
   "source": [
    "df.head()"
   ]
  },
  {
   "cell_type": "code",
   "execution_count": 16,
   "id": "f9de31bb",
   "metadata": {},
   "outputs": [],
   "source": [
    "df[\"Net_m²\"]=df[\"Net_m²\"].astype(\"float32\")"
   ]
  },
  {
   "cell_type": "code",
   "execution_count": 17,
   "id": "69c6d0e7",
   "metadata": {},
   "outputs": [],
   "source": [
    "df[\"Brüt_m²\"]=df[\"Brüt_m²\"].str.replace(\"m²\",\"\").astype(\"float\")"
   ]
  },
  {
   "cell_type": "code",
   "execution_count": 18,
   "id": "c55960bb",
   "metadata": {},
   "outputs": [
    {
     "data": {
      "text/html": [
       "<div>\n",
       "<style scoped>\n",
       "    .dataframe tbody tr th:only-of-type {\n",
       "        vertical-align: middle;\n",
       "    }\n",
       "\n",
       "    .dataframe tbody tr th {\n",
       "        vertical-align: top;\n",
       "    }\n",
       "\n",
       "    .dataframe thead th {\n",
       "        text-align: right;\n",
       "    }\n",
       "</style>\n",
       "<table border=\"1\" class=\"dataframe\">\n",
       "  <thead>\n",
       "    <tr style=\"text-align: right;\">\n",
       "      <th></th>\n",
       "      <th>İlan_no</th>\n",
       "      <th>Net_m²</th>\n",
       "      <th>Brüt_m²</th>\n",
       "      <th>Oda_Sayısı</th>\n",
       "      <th>Banyo_Sayısı</th>\n",
       "      <th>Binadaki_Kat_Sayısı</th>\n",
       "      <th>Isıtma_Tipi</th>\n",
       "      <th>Bulunduğu_Kat</th>\n",
       "      <th>Bina_Yaşı</th>\n",
       "      <th>Kira_Getirisi</th>\n",
       "      <th>Location</th>\n",
       "      <th>Price</th>\n",
       "    </tr>\n",
       "  </thead>\n",
       "  <tbody>\n",
       "    <tr>\n",
       "      <th>0</th>\n",
       "      <td>5145472</td>\n",
       "      <td>115.0</td>\n",
       "      <td>128.0</td>\n",
       "      <td>3+1</td>\n",
       "      <td>1.0</td>\n",
       "      <td>3</td>\n",
       "      <td>Kombi (Doğalgaz)</td>\n",
       "      <td>2</td>\n",
       "      <td>26-30 arası</td>\n",
       "      <td>10.000 TL (aylık)</td>\n",
       "      <td>Yeni, Akşehir\\n, Konya</td>\n",
       "      <td>1.860.000 TL</td>\n",
       "    </tr>\n",
       "    <tr>\n",
       "      <th>1</th>\n",
       "      <td>5115610</td>\n",
       "      <td>130.0</td>\n",
       "      <td>141.0</td>\n",
       "      <td>2+1</td>\n",
       "      <td>1.0</td>\n",
       "      <td>5</td>\n",
       "      <td>Kombi (Doğalgaz)</td>\n",
       "      <td>3</td>\n",
       "      <td>21-25 arası</td>\n",
       "      <td>9.000 TL (aylık)</td>\n",
       "      <td>İstasyon, Akşehir\\n, Konya</td>\n",
       "      <td>1.675.000 TL</td>\n",
       "    </tr>\n",
       "    <tr>\n",
       "      <th>2</th>\n",
       "      <td>5142613</td>\n",
       "      <td>155.0</td>\n",
       "      <td>180.0</td>\n",
       "      <td>4+1</td>\n",
       "      <td>2.0</td>\n",
       "      <td>5</td>\n",
       "      <td>NaN</td>\n",
       "      <td>2</td>\n",
       "      <td>0</td>\n",
       "      <td>18.000 TL (aylık)</td>\n",
       "      <td>Gazi, Akşehir\\n, Konya</td>\n",
       "      <td>3.500.000 TL</td>\n",
       "    </tr>\n",
       "    <tr>\n",
       "      <th>3</th>\n",
       "      <td>5055209</td>\n",
       "      <td>130.0</td>\n",
       "      <td>145.0</td>\n",
       "      <td>2+1</td>\n",
       "      <td>1.0</td>\n",
       "      <td>NaN</td>\n",
       "      <td>Kalorifer (Doğalgaz)</td>\n",
       "      <td>1</td>\n",
       "      <td>NaN</td>\n",
       "      <td>NaN</td>\n",
       "      <td>Kileci, Akşehir\\n, Konya</td>\n",
       "      <td>1.625.000.000 TL</td>\n",
       "    </tr>\n",
       "    <tr>\n",
       "      <th>4</th>\n",
       "      <td>5137354</td>\n",
       "      <td>145.0</td>\n",
       "      <td>165.0</td>\n",
       "      <td>3+1</td>\n",
       "      <td>1.0</td>\n",
       "      <td>5</td>\n",
       "      <td>Kombi (Doğalgaz)</td>\n",
       "      <td>4</td>\n",
       "      <td>6-10 arası</td>\n",
       "      <td>17.000 TL (aylık)</td>\n",
       "      <td>Yeni, Akşehir\\n, Konya</td>\n",
       "      <td>3.550.000 TL</td>\n",
       "    </tr>\n",
       "  </tbody>\n",
       "</table>\n",
       "</div>"
      ],
      "text/plain": [
       "   İlan_no  Net_m²  Brüt_m² Oda_Sayısı  Banyo_Sayısı Binadaki_Kat_Sayısı  \\\n",
       "0  5145472   115.0    128.0        3+1           1.0                   3   \n",
       "1  5115610   130.0    141.0        2+1           1.0                   5   \n",
       "2  5142613   155.0    180.0        4+1           2.0                   5   \n",
       "3  5055209   130.0    145.0        2+1           1.0                 NaN   \n",
       "4  5137354   145.0    165.0        3+1           1.0                   5   \n",
       "\n",
       "            Isıtma_Tipi Bulunduğu_Kat    Bina_Yaşı      Kira_Getirisi  \\\n",
       "0      Kombi (Doğalgaz)             2  26-30 arası  10.000 TL (aylık)   \n",
       "1      Kombi (Doğalgaz)             3  21-25 arası   9.000 TL (aylık)   \n",
       "2                   NaN             2            0  18.000 TL (aylık)   \n",
       "3  Kalorifer (Doğalgaz)             1          NaN                NaN   \n",
       "4      Kombi (Doğalgaz)             4   6-10 arası  17.000 TL (aylık)   \n",
       "\n",
       "                     Location             Price  \n",
       "0      Yeni, Akşehir\\n, Konya      1.860.000 TL  \n",
       "1  İstasyon, Akşehir\\n, Konya      1.675.000 TL  \n",
       "2      Gazi, Akşehir\\n, Konya      3.500.000 TL  \n",
       "3    Kileci, Akşehir\\n, Konya  1.625.000.000 TL  \n",
       "4      Yeni, Akşehir\\n, Konya      3.550.000 TL  "
      ]
     },
     "execution_count": 18,
     "metadata": {},
     "output_type": "execute_result"
    }
   ],
   "source": [
    "df.head()"
   ]
  },
  {
   "cell_type": "code",
   "execution_count": 19,
   "id": "842b7c5c",
   "metadata": {},
   "outputs": [
    {
     "name": "stdout",
     "output_type": "stream",
     "text": [
      "<class 'pandas.core.frame.DataFrame'>\n",
      "RangeIndex: 295 entries, 0 to 294\n",
      "Data columns (total 12 columns):\n",
      " #   Column               Non-Null Count  Dtype  \n",
      "---  ------               --------------  -----  \n",
      " 0   İlan_no              295 non-null    int64  \n",
      " 1   Net_m²               295 non-null    float32\n",
      " 2   Brüt_m²              295 non-null    float64\n",
      " 3   Oda_Sayısı           290 non-null    object \n",
      " 4   Banyo_Sayısı         290 non-null    float64\n",
      " 5   Binadaki_Kat_Sayısı  257 non-null    object \n",
      " 6   Isıtma_Tipi          227 non-null    object \n",
      " 7   Bulunduğu_Kat        238 non-null    object \n",
      " 8   Bina_Yaşı            217 non-null    object \n",
      " 9   Kira_Getirisi        139 non-null    object \n",
      " 10  Location             295 non-null    object \n",
      " 11  Price                295 non-null    object \n",
      "dtypes: float32(1), float64(2), int64(1), object(8)\n",
      "memory usage: 26.6+ KB\n"
     ]
    }
   ],
   "source": [
    "df.info()"
   ]
  },
  {
   "cell_type": "code",
   "execution_count": 20,
   "id": "68647cfd",
   "metadata": {},
   "outputs": [],
   "source": [
    "# Oda sayılarının toplamını buluyoruz\n",
    "def toplam_oda_sayisi(oda_sayisi):\n",
    "    if isinstance(oda_sayisi, str):  \n",
    "        return sum(int(x) for x in oda_sayisi.split('+'))\n",
    "    else:\n",
    "        return np.nan  \n",
    "df['Oda_Sayısı'] = df['Oda_Sayısı'].apply(toplam_oda_sayisi)"
   ]
  },
  {
   "cell_type": "code",
   "execution_count": 21,
   "id": "342a223e",
   "metadata": {},
   "outputs": [
    {
     "data": {
      "text/plain": [
       "İlan_no                  0\n",
       "Net_m²                   0\n",
       "Brüt_m²                  0\n",
       "Oda_Sayısı               5\n",
       "Banyo_Sayısı             5\n",
       "Binadaki_Kat_Sayısı     38\n",
       "Isıtma_Tipi             68\n",
       "Bulunduğu_Kat           57\n",
       "Bina_Yaşı               78\n",
       "Kira_Getirisi          156\n",
       "Location                 0\n",
       "Price                    0\n",
       "dtype: int64"
      ]
     },
     "execution_count": 21,
     "metadata": {},
     "output_type": "execute_result"
    }
   ],
   "source": [
    "df.isnull().sum()"
   ]
  },
  {
   "cell_type": "code",
   "execution_count": 22,
   "id": "dba552b2",
   "metadata": {},
   "outputs": [],
   "source": [
    "df = knn_impute_columns(df, columns=['Oda_Sayısı', 'Banyo_Sayısı'])"
   ]
  },
  {
   "cell_type": "code",
   "execution_count": 23,
   "id": "5178d96c",
   "metadata": {},
   "outputs": [
    {
     "data": {
      "text/plain": [
       "0    4.0\n",
       "1    3.0\n",
       "2    5.0\n",
       "3    3.0\n",
       "4    4.0\n",
       "Name: Oda_Sayısı, dtype: float64"
      ]
     },
     "execution_count": 23,
     "metadata": {},
     "output_type": "execute_result"
    }
   ],
   "source": [
    "df['Oda_Sayısı'].head()"
   ]
  },
  {
   "cell_type": "code",
   "execution_count": 24,
   "id": "31ecd9c2",
   "metadata": {},
   "outputs": [
    {
     "data": {
      "text/plain": [
       "İlan_no                  0\n",
       "Net_m²                   0\n",
       "Brüt_m²                  0\n",
       "Oda_Sayısı               0\n",
       "Banyo_Sayısı             0\n",
       "Binadaki_Kat_Sayısı     38\n",
       "Isıtma_Tipi             68\n",
       "Bulunduğu_Kat           57\n",
       "Bina_Yaşı               78\n",
       "Kira_Getirisi          156\n",
       "Location                 0\n",
       "Price                    0\n",
       "dtype: int64"
      ]
     },
     "execution_count": 24,
     "metadata": {},
     "output_type": "execute_result"
    }
   ],
   "source": [
    "df.isnull().sum()"
   ]
  },
  {
   "cell_type": "code",
   "execution_count": 25,
   "id": "3e165f23",
   "metadata": {
    "scrolled": true
   },
   "outputs": [
    {
     "data": {
      "text/plain": [
       "Bulunduğu_Kat\n",
       "2               49\n",
       "3               36\n",
       "4               32\n",
       "Yüksek Giriş    21\n",
       "5               21\n",
       "1               18\n",
       "Bahçe katı      18\n",
       "Müstakil         8\n",
       "Giriş Katı       7\n",
       "Komple           5\n",
       "6                5\n",
       "Ara Kat          4\n",
       "7                4\n",
       "Zemin Kat        3\n",
       "8                2\n",
       "Çatı Katı        1\n",
       "En Üst Kat       1\n",
       "Kot 1            1\n",
       "10               1\n",
       "Kot 4            1\n",
       "Name: count, dtype: int64"
      ]
     },
     "execution_count": 25,
     "metadata": {},
     "output_type": "execute_result"
    }
   ],
   "source": [
    "df['Bulunduğu_Kat'].value_counts()"
   ]
  },
  {
   "cell_type": "code",
   "execution_count": 26,
   "id": "5c9da614",
   "metadata": {},
   "outputs": [
    {
     "name": "stdout",
     "output_type": "stream",
     "text": [
      "<class 'pandas.core.frame.DataFrame'>\n",
      "RangeIndex: 295 entries, 0 to 294\n",
      "Data columns (total 12 columns):\n",
      " #   Column               Non-Null Count  Dtype  \n",
      "---  ------               --------------  -----  \n",
      " 0   İlan_no              295 non-null    int64  \n",
      " 1   Net_m²               295 non-null    float32\n",
      " 2   Brüt_m²              295 non-null    float64\n",
      " 3   Oda_Sayısı           295 non-null    float64\n",
      " 4   Banyo_Sayısı         295 non-null    float64\n",
      " 5   Binadaki_Kat_Sayısı  257 non-null    object \n",
      " 6   Isıtma_Tipi          227 non-null    object \n",
      " 7   Bulunduğu_Kat        238 non-null    object \n",
      " 8   Bina_Yaşı            217 non-null    object \n",
      " 9   Kira_Getirisi        139 non-null    object \n",
      " 10  Location             295 non-null    object \n",
      " 11  Price                295 non-null    object \n",
      "dtypes: float32(1), float64(3), int64(1), object(7)\n",
      "memory usage: 26.6+ KB\n"
     ]
    }
   ],
   "source": [
    "df.info()"
   ]
  },
  {
   "cell_type": "code",
   "execution_count": 27,
   "id": "217c6f47",
   "metadata": {},
   "outputs": [
    {
     "data": {
      "text/html": [
       "<div>\n",
       "<style scoped>\n",
       "    .dataframe tbody tr th:only-of-type {\n",
       "        vertical-align: middle;\n",
       "    }\n",
       "\n",
       "    .dataframe tbody tr th {\n",
       "        vertical-align: top;\n",
       "    }\n",
       "\n",
       "    .dataframe thead th {\n",
       "        text-align: right;\n",
       "    }\n",
       "</style>\n",
       "<table border=\"1\" class=\"dataframe\">\n",
       "  <thead>\n",
       "    <tr style=\"text-align: right;\">\n",
       "      <th></th>\n",
       "      <th>İlan_no</th>\n",
       "      <th>Net_m²</th>\n",
       "      <th>Brüt_m²</th>\n",
       "      <th>Oda_Sayısı</th>\n",
       "      <th>Banyo_Sayısı</th>\n",
       "      <th>Binadaki_Kat_Sayısı</th>\n",
       "      <th>Isıtma_Tipi</th>\n",
       "      <th>Bulunduğu_Kat</th>\n",
       "      <th>Bina_Yaşı</th>\n",
       "      <th>Kira_Getirisi</th>\n",
       "      <th>Location</th>\n",
       "      <th>Price</th>\n",
       "    </tr>\n",
       "  </thead>\n",
       "  <tbody>\n",
       "    <tr>\n",
       "      <th>0</th>\n",
       "      <td>5145472</td>\n",
       "      <td>115.0</td>\n",
       "      <td>128.0</td>\n",
       "      <td>4.0</td>\n",
       "      <td>1.0</td>\n",
       "      <td>3</td>\n",
       "      <td>Kombi (Doğalgaz)</td>\n",
       "      <td>2</td>\n",
       "      <td>26-30 arası</td>\n",
       "      <td>10.000 TL (aylık)</td>\n",
       "      <td>Yeni, Akşehir\\n, Konya</td>\n",
       "      <td>1.860.000 TL</td>\n",
       "    </tr>\n",
       "    <tr>\n",
       "      <th>1</th>\n",
       "      <td>5115610</td>\n",
       "      <td>130.0</td>\n",
       "      <td>141.0</td>\n",
       "      <td>3.0</td>\n",
       "      <td>1.0</td>\n",
       "      <td>5</td>\n",
       "      <td>Kombi (Doğalgaz)</td>\n",
       "      <td>3</td>\n",
       "      <td>21-25 arası</td>\n",
       "      <td>9.000 TL (aylık)</td>\n",
       "      <td>İstasyon, Akşehir\\n, Konya</td>\n",
       "      <td>1.675.000 TL</td>\n",
       "    </tr>\n",
       "    <tr>\n",
       "      <th>2</th>\n",
       "      <td>5142613</td>\n",
       "      <td>155.0</td>\n",
       "      <td>180.0</td>\n",
       "      <td>5.0</td>\n",
       "      <td>2.0</td>\n",
       "      <td>5</td>\n",
       "      <td>NaN</td>\n",
       "      <td>2</td>\n",
       "      <td>0</td>\n",
       "      <td>18.000 TL (aylık)</td>\n",
       "      <td>Gazi, Akşehir\\n, Konya</td>\n",
       "      <td>3.500.000 TL</td>\n",
       "    </tr>\n",
       "    <tr>\n",
       "      <th>3</th>\n",
       "      <td>5055209</td>\n",
       "      <td>130.0</td>\n",
       "      <td>145.0</td>\n",
       "      <td>3.0</td>\n",
       "      <td>1.0</td>\n",
       "      <td>NaN</td>\n",
       "      <td>Kalorifer (Doğalgaz)</td>\n",
       "      <td>1</td>\n",
       "      <td>NaN</td>\n",
       "      <td>NaN</td>\n",
       "      <td>Kileci, Akşehir\\n, Konya</td>\n",
       "      <td>1.625.000.000 TL</td>\n",
       "    </tr>\n",
       "    <tr>\n",
       "      <th>4</th>\n",
       "      <td>5137354</td>\n",
       "      <td>145.0</td>\n",
       "      <td>165.0</td>\n",
       "      <td>4.0</td>\n",
       "      <td>1.0</td>\n",
       "      <td>5</td>\n",
       "      <td>Kombi (Doğalgaz)</td>\n",
       "      <td>4</td>\n",
       "      <td>6-10 arası</td>\n",
       "      <td>17.000 TL (aylık)</td>\n",
       "      <td>Yeni, Akşehir\\n, Konya</td>\n",
       "      <td>3.550.000 TL</td>\n",
       "    </tr>\n",
       "  </tbody>\n",
       "</table>\n",
       "</div>"
      ],
      "text/plain": [
       "   İlan_no  Net_m²  Brüt_m²  Oda_Sayısı  Banyo_Sayısı Binadaki_Kat_Sayısı  \\\n",
       "0  5145472   115.0    128.0         4.0           1.0                   3   \n",
       "1  5115610   130.0    141.0         3.0           1.0                   5   \n",
       "2  5142613   155.0    180.0         5.0           2.0                   5   \n",
       "3  5055209   130.0    145.0         3.0           1.0                 NaN   \n",
       "4  5137354   145.0    165.0         4.0           1.0                   5   \n",
       "\n",
       "            Isıtma_Tipi Bulunduğu_Kat    Bina_Yaşı      Kira_Getirisi  \\\n",
       "0      Kombi (Doğalgaz)             2  26-30 arası  10.000 TL (aylık)   \n",
       "1      Kombi (Doğalgaz)             3  21-25 arası   9.000 TL (aylık)   \n",
       "2                   NaN             2            0  18.000 TL (aylık)   \n",
       "3  Kalorifer (Doğalgaz)             1          NaN                NaN   \n",
       "4      Kombi (Doğalgaz)             4   6-10 arası  17.000 TL (aylık)   \n",
       "\n",
       "                     Location             Price  \n",
       "0      Yeni, Akşehir\\n, Konya      1.860.000 TL  \n",
       "1  İstasyon, Akşehir\\n, Konya      1.675.000 TL  \n",
       "2      Gazi, Akşehir\\n, Konya      3.500.000 TL  \n",
       "3    Kileci, Akşehir\\n, Konya  1.625.000.000 TL  \n",
       "4      Yeni, Akşehir\\n, Konya      3.550.000 TL  "
      ]
     },
     "execution_count": 27,
     "metadata": {},
     "output_type": "execute_result"
    }
   ],
   "source": [
    "df.head()"
   ]
  },
  {
   "cell_type": "code",
   "execution_count": 28,
   "id": "96563fb1",
   "metadata": {
    "scrolled": true
   },
   "outputs": [
    {
     "data": {
      "text/plain": [
       "Binadaki_Kat_Sayısı\n",
       "5              80\n",
       "4              53\n",
       "2              37\n",
       "3              30\n",
       "6              21\n",
       "1              14\n",
       "10-20 arası    10\n",
       "9               4\n",
       "8               4\n",
       "10              2\n",
       "7               2\n",
       "Name: count, dtype: int64"
      ]
     },
     "execution_count": 28,
     "metadata": {},
     "output_type": "execute_result"
    }
   ],
   "source": [
    "df['Binadaki_Kat_Sayısı'].value_counts()"
   ]
  },
  {
   "cell_type": "code",
   "execution_count": 29,
   "id": "6109bc5d",
   "metadata": {},
   "outputs": [],
   "source": [
    "df['Binadaki_Kat_Sayısı'] = df['Binadaki_Kat_Sayısı'].replace('10-20 arası', 10)"
   ]
  },
  {
   "cell_type": "code",
   "execution_count": 30,
   "id": "fa0b5ae6",
   "metadata": {},
   "outputs": [],
   "source": [
    "df = knn_impute_columns(df, columns=['Binadaki_Kat_Sayısı'])"
   ]
  },
  {
   "cell_type": "code",
   "execution_count": 31,
   "id": "8ff08ed3",
   "metadata": {},
   "outputs": [],
   "source": [
    "df[\"Binadaki_Kat_Sayısı\"]=df[\"Binadaki_Kat_Sayısı\"].astype(\"int32\")"
   ]
  },
  {
   "cell_type": "code",
   "execution_count": 32,
   "id": "e2407f82",
   "metadata": {
    "scrolled": true
   },
   "outputs": [
    {
     "data": {
      "text/plain": [
       "İlan_no                  0\n",
       "Net_m²                   0\n",
       "Brüt_m²                  0\n",
       "Oda_Sayısı               0\n",
       "Banyo_Sayısı             0\n",
       "Binadaki_Kat_Sayısı      0\n",
       "Isıtma_Tipi             68\n",
       "Bulunduğu_Kat           57\n",
       "Bina_Yaşı               78\n",
       "Kira_Getirisi          156\n",
       "Location                 0\n",
       "Price                    0\n",
       "dtype: int64"
      ]
     },
     "execution_count": 32,
     "metadata": {},
     "output_type": "execute_result"
    }
   ],
   "source": [
    "df.isnull().sum()"
   ]
  },
  {
   "cell_type": "code",
   "execution_count": 33,
   "id": "f2712338",
   "metadata": {},
   "outputs": [
    {
     "name": "stdout",
     "output_type": "stream",
     "text": [
      "<class 'pandas.core.frame.DataFrame'>\n",
      "RangeIndex: 295 entries, 0 to 294\n",
      "Data columns (total 12 columns):\n",
      " #   Column               Non-Null Count  Dtype  \n",
      "---  ------               --------------  -----  \n",
      " 0   İlan_no              295 non-null    int64  \n",
      " 1   Net_m²               295 non-null    float32\n",
      " 2   Brüt_m²              295 non-null    float64\n",
      " 3   Oda_Sayısı           295 non-null    float64\n",
      " 4   Banyo_Sayısı         295 non-null    float64\n",
      " 5   Binadaki_Kat_Sayısı  295 non-null    int32  \n",
      " 6   Isıtma_Tipi          227 non-null    object \n",
      " 7   Bulunduğu_Kat        238 non-null    object \n",
      " 8   Bina_Yaşı            217 non-null    object \n",
      " 9   Kira_Getirisi        139 non-null    object \n",
      " 10  Location             295 non-null    object \n",
      " 11  Price                295 non-null    object \n",
      "dtypes: float32(1), float64(3), int32(1), int64(1), object(6)\n",
      "memory usage: 25.5+ KB\n"
     ]
    }
   ],
   "source": [
    "df.info()"
   ]
  },
  {
   "cell_type": "code",
   "execution_count": 34,
   "id": "86d23b10",
   "metadata": {},
   "outputs": [
    {
     "data": {
      "text/plain": [
       "Isıtma_Tipi\n",
       "Kombi (Doğalgaz)                   131\n",
       "Yerden Isıtma                       42\n",
       "Soba (Kömür)                        14\n",
       "Kalorifer (Doğalgaz)                13\n",
       "Merkezi Sistem (Isı Payı Ölçer)     11\n",
       "Merkezi Sistem                       7\n",
       "Yok                                  2\n",
       "Klima                                2\n",
       "Soba (Doğalgaz)                      2\n",
       "Kat Kaloriferi                       2\n",
       "Floor Heating                        1\n",
       "Name: count, dtype: int64"
      ]
     },
     "execution_count": 34,
     "metadata": {},
     "output_type": "execute_result"
    }
   ],
   "source": [
    "df['Isıtma_Tipi'].value_counts()"
   ]
  },
  {
   "cell_type": "code",
   "execution_count": 35,
   "id": "4ae8c148",
   "metadata": {},
   "outputs": [],
   "source": [
    "df['Isıtma_Tipi'] = df['Isıtma_Tipi'].replace({\n",
    "    'Kombi (Doğalgaz)': 'Kalorifer',\n",
    "    'Kalorifer (Doğalgaz)': 'Kalorifer',\n",
    "    'Kat Kaloriferi': 'Kalorifer',\n",
    "    'Merkezi Sistem (Isı Payı Ölçer)': 'Merkezi Sistem',\n",
    "    'Merkezi Sistem': 'Merkezi Sistem',\n",
    "    'Yerden Isıtma': 'Yerden Isıtma',\n",
    "    'Floor Heating': 'Yerden Isıtma',\n",
    "    'Soba (Kömür)': 'Soba',\n",
    "    'Soba (Doğalgaz)': 'Soba',\n",
    "    'Klima': 'Yok', \n",
    "    'Yok': 'Yok'\n",
    "})"
   ]
  },
  {
   "cell_type": "code",
   "execution_count": 36,
   "id": "a5a56783",
   "metadata": {},
   "outputs": [
    {
     "data": {
      "text/plain": [
       "Isıtma_Tipi\n",
       "Kalorifer         146\n",
       "Yerden Isıtma      43\n",
       "Merkezi Sistem     18\n",
       "Soba               16\n",
       "Yok                 4\n",
       "Name: count, dtype: int64"
      ]
     },
     "execution_count": 36,
     "metadata": {},
     "output_type": "execute_result"
    }
   ],
   "source": [
    "df['Isıtma_Tipi'].value_counts()"
   ]
  },
  {
   "cell_type": "code",
   "execution_count": 37,
   "id": "678ed001",
   "metadata": {},
   "outputs": [],
   "source": [
    "isitma_mapping = {'Yok': 0,'Kalorifer': 1,'Yerden Isıtma': 2,'Merkezi Sistem': 3,'Soba': 4}\n",
    "df['Isıtma_Tipi'] = df['Isıtma_Tipi'].map(isitma_mapping)"
   ]
  },
  {
   "cell_type": "code",
   "execution_count": 38,
   "id": "d9fca6bc",
   "metadata": {},
   "outputs": [],
   "source": [
    "df = knn_impute_columns(df, columns=['Isıtma_Tipi'])"
   ]
  },
  {
   "cell_type": "code",
   "execution_count": 39,
   "id": "0e518d3e",
   "metadata": {
    "scrolled": true
   },
   "outputs": [
    {
     "data": {
      "text/plain": [
       "Bulunduğu_Kat\n",
       "2               49\n",
       "3               36\n",
       "4               32\n",
       "Yüksek Giriş    21\n",
       "5               21\n",
       "1               18\n",
       "Bahçe katı      18\n",
       "Müstakil         8\n",
       "Giriş Katı       7\n",
       "Komple           5\n",
       "6                5\n",
       "Ara Kat          4\n",
       "7                4\n",
       "Zemin Kat        3\n",
       "8                2\n",
       "Çatı Katı        1\n",
       "En Üst Kat       1\n",
       "Kot 1            1\n",
       "10               1\n",
       "Kot 4            1\n",
       "Name: count, dtype: int64"
      ]
     },
     "execution_count": 39,
     "metadata": {},
     "output_type": "execute_result"
    }
   ],
   "source": [
    "df['Bulunduğu_Kat'].value_counts()"
   ]
  },
  {
   "cell_type": "code",
   "execution_count": 40,
   "id": "4bbc1caf",
   "metadata": {},
   "outputs": [],
   "source": [
    "# Object verileri sayısal verilere göre ayarladım.\n",
    "df[\"Bulunduğu_Kat\"]=df[\"Bulunduğu_Kat\"].replace([\"Müstakil\",\"Zemin Kat\",\"Kot 1\",\"Bahçe katı\",\"Giriş Katı\",\"Yüksek Giriş\",\"FirstFloor\"],\"1\",regex=True)\n",
    "df[\"Bulunduğu_Kat\"]=df[\"Bulunduğu_Kat\"].replace([\"Ara Kat\",\"Komple\"],\"2\",regex=True)\n",
    "df[\"Bulunduğu_Kat\"]=df[\"Bulunduğu_Kat\"].replace([\"Çatı Katı\",\"Kot 4\"],\"4\",regex=True)\n",
    "df[\"Bulunduğu_Kat\"]=df[\"Bulunduğu_Kat\"].replace([\"En Üst Kat\"],\"3\",regex=True)"
   ]
  },
  {
   "cell_type": "code",
   "execution_count": 41,
   "id": "e0c3411e",
   "metadata": {
    "scrolled": true
   },
   "outputs": [
    {
     "data": {
      "text/plain": [
       "Bulunduğu_Kat\n",
       "1     76\n",
       "2     58\n",
       "3     37\n",
       "4     34\n",
       "5     21\n",
       "6      5\n",
       "7      4\n",
       "8      2\n",
       "10     1\n",
       "Name: count, dtype: int64"
      ]
     },
     "execution_count": 41,
     "metadata": {},
     "output_type": "execute_result"
    }
   ],
   "source": [
    "df['Bulunduğu_Kat'].value_counts()"
   ]
  },
  {
   "cell_type": "code",
   "execution_count": 42,
   "id": "bd46589f",
   "metadata": {
    "scrolled": true
   },
   "outputs": [
    {
     "name": "stdout",
     "output_type": "stream",
     "text": [
      "<class 'pandas.core.frame.DataFrame'>\n",
      "RangeIndex: 295 entries, 0 to 294\n",
      "Data columns (total 12 columns):\n",
      " #   Column               Non-Null Count  Dtype  \n",
      "---  ------               --------------  -----  \n",
      " 0   İlan_no              295 non-null    int64  \n",
      " 1   Net_m²               295 non-null    float32\n",
      " 2   Brüt_m²              295 non-null    float64\n",
      " 3   Oda_Sayısı           295 non-null    float64\n",
      " 4   Banyo_Sayısı         295 non-null    float64\n",
      " 5   Binadaki_Kat_Sayısı  295 non-null    int32  \n",
      " 6   Isıtma_Tipi          295 non-null    float64\n",
      " 7   Bulunduğu_Kat        238 non-null    object \n",
      " 8   Bina_Yaşı            217 non-null    object \n",
      " 9   Kira_Getirisi        139 non-null    object \n",
      " 10  Location             295 non-null    object \n",
      " 11  Price                295 non-null    object \n",
      "dtypes: float32(1), float64(4), int32(1), int64(1), object(5)\n",
      "memory usage: 25.5+ KB\n"
     ]
    }
   ],
   "source": [
    "df.info()"
   ]
  },
  {
   "cell_type": "code",
   "execution_count": 43,
   "id": "c523cc88",
   "metadata": {},
   "outputs": [],
   "source": [
    "df = knn_impute_columns(df, columns=['Bulunduğu_Kat'])"
   ]
  },
  {
   "cell_type": "code",
   "execution_count": 44,
   "id": "d10425d8",
   "metadata": {},
   "outputs": [],
   "source": [
    "df[\"Bulunduğu_Kat\"]=df[\"Bulunduğu_Kat\"].astype(\"int32\")"
   ]
  },
  {
   "cell_type": "code",
   "execution_count": 45,
   "id": "4b09ae84",
   "metadata": {},
   "outputs": [
    {
     "data": {
      "text/plain": [
       "Bulunduğu_Kat\n",
       "2     115\n",
       "1      76\n",
       "3      37\n",
       "4      34\n",
       "5      21\n",
       "6       5\n",
       "7       4\n",
       "8       2\n",
       "10      1\n",
       "Name: count, dtype: int64"
      ]
     },
     "execution_count": 45,
     "metadata": {},
     "output_type": "execute_result"
    }
   ],
   "source": [
    "df['Bulunduğu_Kat'].value_counts()"
   ]
  },
  {
   "cell_type": "code",
   "execution_count": 46,
   "id": "d96421a5",
   "metadata": {},
   "outputs": [
    {
     "name": "stdout",
     "output_type": "stream",
     "text": [
      "<class 'pandas.core.frame.DataFrame'>\n",
      "RangeIndex: 295 entries, 0 to 294\n",
      "Data columns (total 12 columns):\n",
      " #   Column               Non-Null Count  Dtype  \n",
      "---  ------               --------------  -----  \n",
      " 0   İlan_no              295 non-null    int64  \n",
      " 1   Net_m²               295 non-null    float32\n",
      " 2   Brüt_m²              295 non-null    float64\n",
      " 3   Oda_Sayısı           295 non-null    float64\n",
      " 4   Banyo_Sayısı         295 non-null    float64\n",
      " 5   Binadaki_Kat_Sayısı  295 non-null    int32  \n",
      " 6   Isıtma_Tipi          295 non-null    float64\n",
      " 7   Bulunduğu_Kat        295 non-null    int32  \n",
      " 8   Bina_Yaşı            217 non-null    object \n",
      " 9   Kira_Getirisi        139 non-null    object \n",
      " 10  Location             295 non-null    object \n",
      " 11  Price                295 non-null    object \n",
      "dtypes: float32(1), float64(4), int32(2), int64(1), object(4)\n",
      "memory usage: 24.3+ KB\n"
     ]
    }
   ],
   "source": [
    "df.info()"
   ]
  },
  {
   "cell_type": "code",
   "execution_count": 47,
   "id": "bb2f3ab6",
   "metadata": {
    "scrolled": true
   },
   "outputs": [
    {
     "data": {
      "text/plain": [
       "Bina_Yaşı\n",
       "0              64\n",
       "21-25 arası    25\n",
       "26-30 arası    24\n",
       "11-15 arası    19\n",
       "5              15\n",
       "31-35 arası    14\n",
       "16-20 arası    13\n",
       "6-10 arası     12\n",
       "3               7\n",
       "4               6\n",
       "2               6\n",
       "40 ve üzeri     5\n",
       "1               4\n",
       "36-40 arası     3\n",
       "Name: count, dtype: int64"
      ]
     },
     "execution_count": 47,
     "metadata": {},
     "output_type": "execute_result"
    }
   ],
   "source": [
    "df['Bina_Yaşı'].value_counts()"
   ]
  },
  {
   "cell_type": "code",
   "execution_count": 48,
   "id": "e4fb03f2",
   "metadata": {
    "scrolled": true
   },
   "outputs": [],
   "source": [
    "df[\"Bina_Yaşı\"]=df[\"Bina_Yaşı\"].str.extract(\"([0-9]+)\",expand=False)"
   ]
  },
  {
   "cell_type": "code",
   "execution_count": 49,
   "id": "1b94f29a",
   "metadata": {},
   "outputs": [],
   "source": [
    "df = knn_impute_columns(df, columns=['Bina_Yaşı'])"
   ]
  },
  {
   "cell_type": "code",
   "execution_count": 50,
   "id": "743413d3",
   "metadata": {},
   "outputs": [],
   "source": [
    "df[\"Bina_Yaşı\"]=df[\"Bina_Yaşı\"].astype(\"int\")"
   ]
  },
  {
   "cell_type": "code",
   "execution_count": 51,
   "id": "4fe9edbb",
   "metadata": {
    "scrolled": true
   },
   "outputs": [
    {
     "data": {
      "text/plain": [
       "İlan_no                  0\n",
       "Net_m²                   0\n",
       "Brüt_m²                  0\n",
       "Oda_Sayısı               0\n",
       "Banyo_Sayısı             0\n",
       "Binadaki_Kat_Sayısı      0\n",
       "Isıtma_Tipi              0\n",
       "Bulunduğu_Kat            0\n",
       "Bina_Yaşı                0\n",
       "Kira_Getirisi          156\n",
       "Location                 0\n",
       "Price                    0\n",
       "dtype: int64"
      ]
     },
     "execution_count": 51,
     "metadata": {},
     "output_type": "execute_result"
    }
   ],
   "source": [
    "df.isnull().sum()"
   ]
  },
  {
   "cell_type": "code",
   "execution_count": 52,
   "id": "4e72466b",
   "metadata": {},
   "outputs": [
    {
     "name": "stdout",
     "output_type": "stream",
     "text": [
      "<class 'pandas.core.frame.DataFrame'>\n",
      "RangeIndex: 295 entries, 0 to 294\n",
      "Data columns (total 12 columns):\n",
      " #   Column               Non-Null Count  Dtype  \n",
      "---  ------               --------------  -----  \n",
      " 0   İlan_no              295 non-null    int64  \n",
      " 1   Net_m²               295 non-null    float32\n",
      " 2   Brüt_m²              295 non-null    float64\n",
      " 3   Oda_Sayısı           295 non-null    float64\n",
      " 4   Banyo_Sayısı         295 non-null    float64\n",
      " 5   Binadaki_Kat_Sayısı  295 non-null    int32  \n",
      " 6   Isıtma_Tipi          295 non-null    float64\n",
      " 7   Bulunduğu_Kat        295 non-null    int32  \n",
      " 8   Bina_Yaşı            295 non-null    int32  \n",
      " 9   Kira_Getirisi        139 non-null    object \n",
      " 10  Location             295 non-null    object \n",
      " 11  Price                295 non-null    object \n",
      "dtypes: float32(1), float64(4), int32(3), int64(1), object(3)\n",
      "memory usage: 23.2+ KB\n"
     ]
    }
   ],
   "source": [
    "df.info()"
   ]
  },
  {
   "cell_type": "code",
   "execution_count": 53,
   "id": "60d949f4",
   "metadata": {},
   "outputs": [
    {
     "data": {
      "text/plain": [
       "İlan_no                  0\n",
       "Net_m²                   0\n",
       "Brüt_m²                  0\n",
       "Oda_Sayısı               0\n",
       "Banyo_Sayısı             0\n",
       "Binadaki_Kat_Sayısı      0\n",
       "Isıtma_Tipi              0\n",
       "Bulunduğu_Kat            0\n",
       "Bina_Yaşı                0\n",
       "Kira_Getirisi          156\n",
       "Location                 0\n",
       "Price                    0\n",
       "dtype: int64"
      ]
     },
     "execution_count": 53,
     "metadata": {},
     "output_type": "execute_result"
    }
   ],
   "source": [
    "df.isnull().sum()"
   ]
  },
  {
   "cell_type": "code",
   "execution_count": 54,
   "id": "646f17b9",
   "metadata": {},
   "outputs": [
    {
     "data": {
      "text/html": [
       "<div>\n",
       "<style scoped>\n",
       "    .dataframe tbody tr th:only-of-type {\n",
       "        vertical-align: middle;\n",
       "    }\n",
       "\n",
       "    .dataframe tbody tr th {\n",
       "        vertical-align: top;\n",
       "    }\n",
       "\n",
       "    .dataframe thead th {\n",
       "        text-align: right;\n",
       "    }\n",
       "</style>\n",
       "<table border=\"1\" class=\"dataframe\">\n",
       "  <thead>\n",
       "    <tr style=\"text-align: right;\">\n",
       "      <th></th>\n",
       "      <th>İlan_no</th>\n",
       "      <th>Net_m²</th>\n",
       "      <th>Brüt_m²</th>\n",
       "      <th>Oda_Sayısı</th>\n",
       "      <th>Banyo_Sayısı</th>\n",
       "      <th>Binadaki_Kat_Sayısı</th>\n",
       "      <th>Isıtma_Tipi</th>\n",
       "      <th>Bulunduğu_Kat</th>\n",
       "      <th>Bina_Yaşı</th>\n",
       "      <th>Kira_Getirisi</th>\n",
       "      <th>Location</th>\n",
       "      <th>Price</th>\n",
       "    </tr>\n",
       "  </thead>\n",
       "  <tbody>\n",
       "    <tr>\n",
       "      <th>0</th>\n",
       "      <td>5145472</td>\n",
       "      <td>115.0</td>\n",
       "      <td>128.0</td>\n",
       "      <td>4.0</td>\n",
       "      <td>1.0</td>\n",
       "      <td>3</td>\n",
       "      <td>1.00000</td>\n",
       "      <td>2</td>\n",
       "      <td>26</td>\n",
       "      <td>10.0</td>\n",
       "      <td>Yeni, Akşehir\\n, Konya</td>\n",
       "      <td>1.860.000 TL</td>\n",
       "    </tr>\n",
       "    <tr>\n",
       "      <th>1</th>\n",
       "      <td>5115610</td>\n",
       "      <td>130.0</td>\n",
       "      <td>141.0</td>\n",
       "      <td>3.0</td>\n",
       "      <td>1.0</td>\n",
       "      <td>5</td>\n",
       "      <td>1.00000</td>\n",
       "      <td>3</td>\n",
       "      <td>21</td>\n",
       "      <td>9.0</td>\n",
       "      <td>İstasyon, Akşehir\\n, Konya</td>\n",
       "      <td>1.675.000 TL</td>\n",
       "    </tr>\n",
       "    <tr>\n",
       "      <th>2</th>\n",
       "      <td>5142613</td>\n",
       "      <td>155.0</td>\n",
       "      <td>180.0</td>\n",
       "      <td>5.0</td>\n",
       "      <td>2.0</td>\n",
       "      <td>5</td>\n",
       "      <td>1.54185</td>\n",
       "      <td>2</td>\n",
       "      <td>0</td>\n",
       "      <td>18.0</td>\n",
       "      <td>Gazi, Akşehir\\n, Konya</td>\n",
       "      <td>3.500.000 TL</td>\n",
       "    </tr>\n",
       "    <tr>\n",
       "      <th>3</th>\n",
       "      <td>5055209</td>\n",
       "      <td>130.0</td>\n",
       "      <td>145.0</td>\n",
       "      <td>3.0</td>\n",
       "      <td>1.0</td>\n",
       "      <td>4</td>\n",
       "      <td>1.00000</td>\n",
       "      <td>1</td>\n",
       "      <td>11</td>\n",
       "      <td>NaN</td>\n",
       "      <td>Kileci, Akşehir\\n, Konya</td>\n",
       "      <td>1.625.000.000 TL</td>\n",
       "    </tr>\n",
       "    <tr>\n",
       "      <th>4</th>\n",
       "      <td>5137354</td>\n",
       "      <td>145.0</td>\n",
       "      <td>165.0</td>\n",
       "      <td>4.0</td>\n",
       "      <td>1.0</td>\n",
       "      <td>5</td>\n",
       "      <td>1.00000</td>\n",
       "      <td>4</td>\n",
       "      <td>6</td>\n",
       "      <td>17.0</td>\n",
       "      <td>Yeni, Akşehir\\n, Konya</td>\n",
       "      <td>3.550.000 TL</td>\n",
       "    </tr>\n",
       "  </tbody>\n",
       "</table>\n",
       "</div>"
      ],
      "text/plain": [
       "   İlan_no  Net_m²  Brüt_m²  Oda_Sayısı  Banyo_Sayısı  Binadaki_Kat_Sayısı  \\\n",
       "0  5145472   115.0    128.0         4.0           1.0                    3   \n",
       "1  5115610   130.0    141.0         3.0           1.0                    5   \n",
       "2  5142613   155.0    180.0         5.0           2.0                    5   \n",
       "3  5055209   130.0    145.0         3.0           1.0                    4   \n",
       "4  5137354   145.0    165.0         4.0           1.0                    5   \n",
       "\n",
       "   Isıtma_Tipi  Bulunduğu_Kat  Bina_Yaşı  Kira_Getirisi  \\\n",
       "0      1.00000              2         26           10.0   \n",
       "1      1.00000              3         21            9.0   \n",
       "2      1.54185              2          0           18.0   \n",
       "3      1.00000              1         11            NaN   \n",
       "4      1.00000              4          6           17.0   \n",
       "\n",
       "                     Location             Price  \n",
       "0      Yeni, Akşehir\\n, Konya      1.860.000 TL  \n",
       "1  İstasyon, Akşehir\\n, Konya      1.675.000 TL  \n",
       "2      Gazi, Akşehir\\n, Konya      3.500.000 TL  \n",
       "3    Kileci, Akşehir\\n, Konya  1.625.000.000 TL  \n",
       "4      Yeni, Akşehir\\n, Konya      3.550.000 TL  "
      ]
     },
     "execution_count": 54,
     "metadata": {},
     "output_type": "execute_result"
    }
   ],
   "source": [
    "df['Kira_Getirisi'] = df['Kira_Getirisi'].str.extract('(\\d+[\\.\\d]*)')\n",
    "df['Kira_Getirisi'] = pd.to_numeric(df['Kira_Getirisi'], errors='coerce')\n",
    "df.head()"
   ]
  },
  {
   "cell_type": "code",
   "execution_count": 55,
   "id": "7d6b8cb4",
   "metadata": {},
   "outputs": [],
   "source": [
    "df = knn_impute_columns(df, columns=['Kira_Getirisi'])"
   ]
  },
  {
   "cell_type": "code",
   "execution_count": 56,
   "id": "80761078",
   "metadata": {},
   "outputs": [
    {
     "data": {
      "text/html": [
       "<div>\n",
       "<style scoped>\n",
       "    .dataframe tbody tr th:only-of-type {\n",
       "        vertical-align: middle;\n",
       "    }\n",
       "\n",
       "    .dataframe tbody tr th {\n",
       "        vertical-align: top;\n",
       "    }\n",
       "\n",
       "    .dataframe thead th {\n",
       "        text-align: right;\n",
       "    }\n",
       "</style>\n",
       "<table border=\"1\" class=\"dataframe\">\n",
       "  <thead>\n",
       "    <tr style=\"text-align: right;\">\n",
       "      <th></th>\n",
       "      <th>İlan_no</th>\n",
       "      <th>Net_m²</th>\n",
       "      <th>Brüt_m²</th>\n",
       "      <th>Oda_Sayısı</th>\n",
       "      <th>Banyo_Sayısı</th>\n",
       "      <th>Binadaki_Kat_Sayısı</th>\n",
       "      <th>Isıtma_Tipi</th>\n",
       "      <th>Bulunduğu_Kat</th>\n",
       "      <th>Bina_Yaşı</th>\n",
       "      <th>Kira_Getirisi</th>\n",
       "      <th>Location</th>\n",
       "      <th>Price</th>\n",
       "    </tr>\n",
       "  </thead>\n",
       "  <tbody>\n",
       "    <tr>\n",
       "      <th>0</th>\n",
       "      <td>5145472</td>\n",
       "      <td>115.0</td>\n",
       "      <td>128.0</td>\n",
       "      <td>4.0</td>\n",
       "      <td>1.0</td>\n",
       "      <td>3</td>\n",
       "      <td>1.00000</td>\n",
       "      <td>2</td>\n",
       "      <td>26</td>\n",
       "      <td>10.000000</td>\n",
       "      <td>Yeni, Akşehir\\n, Konya</td>\n",
       "      <td>1.860.000 TL</td>\n",
       "    </tr>\n",
       "    <tr>\n",
       "      <th>1</th>\n",
       "      <td>5115610</td>\n",
       "      <td>130.0</td>\n",
       "      <td>141.0</td>\n",
       "      <td>3.0</td>\n",
       "      <td>1.0</td>\n",
       "      <td>5</td>\n",
       "      <td>1.00000</td>\n",
       "      <td>3</td>\n",
       "      <td>21</td>\n",
       "      <td>9.000000</td>\n",
       "      <td>İstasyon, Akşehir\\n, Konya</td>\n",
       "      <td>1.675.000 TL</td>\n",
       "    </tr>\n",
       "    <tr>\n",
       "      <th>2</th>\n",
       "      <td>5142613</td>\n",
       "      <td>155.0</td>\n",
       "      <td>180.0</td>\n",
       "      <td>5.0</td>\n",
       "      <td>2.0</td>\n",
       "      <td>5</td>\n",
       "      <td>1.54185</td>\n",
       "      <td>2</td>\n",
       "      <td>0</td>\n",
       "      <td>18.000000</td>\n",
       "      <td>Gazi, Akşehir\\n, Konya</td>\n",
       "      <td>3.500.000 TL</td>\n",
       "    </tr>\n",
       "    <tr>\n",
       "      <th>3</th>\n",
       "      <td>5055209</td>\n",
       "      <td>130.0</td>\n",
       "      <td>145.0</td>\n",
       "      <td>3.0</td>\n",
       "      <td>1.0</td>\n",
       "      <td>4</td>\n",
       "      <td>1.00000</td>\n",
       "      <td>1</td>\n",
       "      <td>11</td>\n",
       "      <td>10.130935</td>\n",
       "      <td>Kileci, Akşehir\\n, Konya</td>\n",
       "      <td>1.625.000.000 TL</td>\n",
       "    </tr>\n",
       "    <tr>\n",
       "      <th>4</th>\n",
       "      <td>5137354</td>\n",
       "      <td>145.0</td>\n",
       "      <td>165.0</td>\n",
       "      <td>4.0</td>\n",
       "      <td>1.0</td>\n",
       "      <td>5</td>\n",
       "      <td>1.00000</td>\n",
       "      <td>4</td>\n",
       "      <td>6</td>\n",
       "      <td>17.000000</td>\n",
       "      <td>Yeni, Akşehir\\n, Konya</td>\n",
       "      <td>3.550.000 TL</td>\n",
       "    </tr>\n",
       "  </tbody>\n",
       "</table>\n",
       "</div>"
      ],
      "text/plain": [
       "   İlan_no  Net_m²  Brüt_m²  Oda_Sayısı  Banyo_Sayısı  Binadaki_Kat_Sayısı  \\\n",
       "0  5145472   115.0    128.0         4.0           1.0                    3   \n",
       "1  5115610   130.0    141.0         3.0           1.0                    5   \n",
       "2  5142613   155.0    180.0         5.0           2.0                    5   \n",
       "3  5055209   130.0    145.0         3.0           1.0                    4   \n",
       "4  5137354   145.0    165.0         4.0           1.0                    5   \n",
       "\n",
       "   Isıtma_Tipi  Bulunduğu_Kat  Bina_Yaşı  Kira_Getirisi  \\\n",
       "0      1.00000              2         26      10.000000   \n",
       "1      1.00000              3         21       9.000000   \n",
       "2      1.54185              2          0      18.000000   \n",
       "3      1.00000              1         11      10.130935   \n",
       "4      1.00000              4          6      17.000000   \n",
       "\n",
       "                     Location             Price  \n",
       "0      Yeni, Akşehir\\n, Konya      1.860.000 TL  \n",
       "1  İstasyon, Akşehir\\n, Konya      1.675.000 TL  \n",
       "2      Gazi, Akşehir\\n, Konya      3.500.000 TL  \n",
       "3    Kileci, Akşehir\\n, Konya  1.625.000.000 TL  \n",
       "4      Yeni, Akşehir\\n, Konya      3.550.000 TL  "
      ]
     },
     "execution_count": 56,
     "metadata": {},
     "output_type": "execute_result"
    }
   ],
   "source": [
    "df.head()"
   ]
  },
  {
   "cell_type": "code",
   "execution_count": 57,
   "id": "64233a69",
   "metadata": {},
   "outputs": [],
   "source": [
    "# Adresi Mahalle, İlçe, İl olarak aldım.\n",
    "df['Location'] = df['Location'].apply(lambda x: str(x).replace(\"\\n\", \"\") if pd.notnull(x) else x)"
   ]
  },
  {
   "cell_type": "code",
   "execution_count": 58,
   "id": "31b3ca65",
   "metadata": {},
   "outputs": [],
   "source": [
    "df[['mahalle', 'ilçe', 'il']] = df['Location'].str.split(', ', expand=True)"
   ]
  },
  {
   "cell_type": "code",
   "execution_count": 59,
   "id": "e8faf5ff",
   "metadata": {},
   "outputs": [
    {
     "data": {
      "text/html": [
       "<div>\n",
       "<style scoped>\n",
       "    .dataframe tbody tr th:only-of-type {\n",
       "        vertical-align: middle;\n",
       "    }\n",
       "\n",
       "    .dataframe tbody tr th {\n",
       "        vertical-align: top;\n",
       "    }\n",
       "\n",
       "    .dataframe thead th {\n",
       "        text-align: right;\n",
       "    }\n",
       "</style>\n",
       "<table border=\"1\" class=\"dataframe\">\n",
       "  <thead>\n",
       "    <tr style=\"text-align: right;\">\n",
       "      <th></th>\n",
       "      <th>İlan_no</th>\n",
       "      <th>Net_m²</th>\n",
       "      <th>Brüt_m²</th>\n",
       "      <th>Oda_Sayısı</th>\n",
       "      <th>Banyo_Sayısı</th>\n",
       "      <th>Binadaki_Kat_Sayısı</th>\n",
       "      <th>Isıtma_Tipi</th>\n",
       "      <th>Bulunduğu_Kat</th>\n",
       "      <th>Bina_Yaşı</th>\n",
       "      <th>Kira_Getirisi</th>\n",
       "      <th>Location</th>\n",
       "      <th>Price</th>\n",
       "      <th>mahalle</th>\n",
       "      <th>ilçe</th>\n",
       "      <th>il</th>\n",
       "    </tr>\n",
       "  </thead>\n",
       "  <tbody>\n",
       "    <tr>\n",
       "      <th>0</th>\n",
       "      <td>5145472</td>\n",
       "      <td>115.0</td>\n",
       "      <td>128.0</td>\n",
       "      <td>4.0</td>\n",
       "      <td>1.0</td>\n",
       "      <td>3</td>\n",
       "      <td>1.00000</td>\n",
       "      <td>2</td>\n",
       "      <td>26</td>\n",
       "      <td>10.000000</td>\n",
       "      <td>Yeni, Akşehir, Konya</td>\n",
       "      <td>1.860.000 TL</td>\n",
       "      <td>Yeni</td>\n",
       "      <td>Akşehir</td>\n",
       "      <td>Konya</td>\n",
       "    </tr>\n",
       "    <tr>\n",
       "      <th>1</th>\n",
       "      <td>5115610</td>\n",
       "      <td>130.0</td>\n",
       "      <td>141.0</td>\n",
       "      <td>3.0</td>\n",
       "      <td>1.0</td>\n",
       "      <td>5</td>\n",
       "      <td>1.00000</td>\n",
       "      <td>3</td>\n",
       "      <td>21</td>\n",
       "      <td>9.000000</td>\n",
       "      <td>İstasyon, Akşehir, Konya</td>\n",
       "      <td>1.675.000 TL</td>\n",
       "      <td>İstasyon</td>\n",
       "      <td>Akşehir</td>\n",
       "      <td>Konya</td>\n",
       "    </tr>\n",
       "    <tr>\n",
       "      <th>2</th>\n",
       "      <td>5142613</td>\n",
       "      <td>155.0</td>\n",
       "      <td>180.0</td>\n",
       "      <td>5.0</td>\n",
       "      <td>2.0</td>\n",
       "      <td>5</td>\n",
       "      <td>1.54185</td>\n",
       "      <td>2</td>\n",
       "      <td>0</td>\n",
       "      <td>18.000000</td>\n",
       "      <td>Gazi, Akşehir, Konya</td>\n",
       "      <td>3.500.000 TL</td>\n",
       "      <td>Gazi</td>\n",
       "      <td>Akşehir</td>\n",
       "      <td>Konya</td>\n",
       "    </tr>\n",
       "    <tr>\n",
       "      <th>3</th>\n",
       "      <td>5055209</td>\n",
       "      <td>130.0</td>\n",
       "      <td>145.0</td>\n",
       "      <td>3.0</td>\n",
       "      <td>1.0</td>\n",
       "      <td>4</td>\n",
       "      <td>1.00000</td>\n",
       "      <td>1</td>\n",
       "      <td>11</td>\n",
       "      <td>10.130935</td>\n",
       "      <td>Kileci, Akşehir, Konya</td>\n",
       "      <td>1.625.000.000 TL</td>\n",
       "      <td>Kileci</td>\n",
       "      <td>Akşehir</td>\n",
       "      <td>Konya</td>\n",
       "    </tr>\n",
       "    <tr>\n",
       "      <th>4</th>\n",
       "      <td>5137354</td>\n",
       "      <td>145.0</td>\n",
       "      <td>165.0</td>\n",
       "      <td>4.0</td>\n",
       "      <td>1.0</td>\n",
       "      <td>5</td>\n",
       "      <td>1.00000</td>\n",
       "      <td>4</td>\n",
       "      <td>6</td>\n",
       "      <td>17.000000</td>\n",
       "      <td>Yeni, Akşehir, Konya</td>\n",
       "      <td>3.550.000 TL</td>\n",
       "      <td>Yeni</td>\n",
       "      <td>Akşehir</td>\n",
       "      <td>Konya</td>\n",
       "    </tr>\n",
       "  </tbody>\n",
       "</table>\n",
       "</div>"
      ],
      "text/plain": [
       "   İlan_no  Net_m²  Brüt_m²  Oda_Sayısı  Banyo_Sayısı  Binadaki_Kat_Sayısı  \\\n",
       "0  5145472   115.0    128.0         4.0           1.0                    3   \n",
       "1  5115610   130.0    141.0         3.0           1.0                    5   \n",
       "2  5142613   155.0    180.0         5.0           2.0                    5   \n",
       "3  5055209   130.0    145.0         3.0           1.0                    4   \n",
       "4  5137354   145.0    165.0         4.0           1.0                    5   \n",
       "\n",
       "   Isıtma_Tipi  Bulunduğu_Kat  Bina_Yaşı  Kira_Getirisi  \\\n",
       "0      1.00000              2         26      10.000000   \n",
       "1      1.00000              3         21       9.000000   \n",
       "2      1.54185              2          0      18.000000   \n",
       "3      1.00000              1         11      10.130935   \n",
       "4      1.00000              4          6      17.000000   \n",
       "\n",
       "                   Location             Price   mahalle     ilçe     il  \n",
       "0      Yeni, Akşehir, Konya      1.860.000 TL      Yeni  Akşehir  Konya  \n",
       "1  İstasyon, Akşehir, Konya      1.675.000 TL  İstasyon  Akşehir  Konya  \n",
       "2      Gazi, Akşehir, Konya      3.500.000 TL      Gazi  Akşehir  Konya  \n",
       "3    Kileci, Akşehir, Konya  1.625.000.000 TL    Kileci  Akşehir  Konya  \n",
       "4      Yeni, Akşehir, Konya      3.550.000 TL      Yeni  Akşehir  Konya  "
      ]
     },
     "execution_count": 59,
     "metadata": {},
     "output_type": "execute_result"
    }
   ],
   "source": [
    "df.head()"
   ]
  },
  {
   "cell_type": "code",
   "execution_count": 60,
   "id": "67b60d33",
   "metadata": {},
   "outputs": [],
   "source": [
    "from sklearn.preprocessing import LabelEncoder\n",
    "\n",
    "le = LabelEncoder()\n",
    "df[\"mahalle\"] = le.fit_transform(df['mahalle'])\n",
    "df[\"ilçe\"] = le.fit_transform(df['ilçe'])"
   ]
  },
  {
   "cell_type": "code",
   "execution_count": 61,
   "id": "8dd90207",
   "metadata": {},
   "outputs": [
    {
     "data": {
      "text/html": [
       "<div>\n",
       "<style scoped>\n",
       "    .dataframe tbody tr th:only-of-type {\n",
       "        vertical-align: middle;\n",
       "    }\n",
       "\n",
       "    .dataframe tbody tr th {\n",
       "        vertical-align: top;\n",
       "    }\n",
       "\n",
       "    .dataframe thead th {\n",
       "        text-align: right;\n",
       "    }\n",
       "</style>\n",
       "<table border=\"1\" class=\"dataframe\">\n",
       "  <thead>\n",
       "    <tr style=\"text-align: right;\">\n",
       "      <th></th>\n",
       "      <th>İlan_no</th>\n",
       "      <th>Net_m²</th>\n",
       "      <th>Brüt_m²</th>\n",
       "      <th>Oda_Sayısı</th>\n",
       "      <th>Banyo_Sayısı</th>\n",
       "      <th>Binadaki_Kat_Sayısı</th>\n",
       "      <th>Isıtma_Tipi</th>\n",
       "      <th>Bulunduğu_Kat</th>\n",
       "      <th>Bina_Yaşı</th>\n",
       "      <th>Kira_Getirisi</th>\n",
       "      <th>Location</th>\n",
       "      <th>Price</th>\n",
       "      <th>mahalle</th>\n",
       "      <th>ilçe</th>\n",
       "      <th>il</th>\n",
       "    </tr>\n",
       "  </thead>\n",
       "  <tbody>\n",
       "    <tr>\n",
       "      <th>0</th>\n",
       "      <td>5145472</td>\n",
       "      <td>115.0</td>\n",
       "      <td>128.0</td>\n",
       "      <td>4.0</td>\n",
       "      <td>1.0</td>\n",
       "      <td>3</td>\n",
       "      <td>1.00000</td>\n",
       "      <td>2</td>\n",
       "      <td>26</td>\n",
       "      <td>10.000000</td>\n",
       "      <td>Yeni, Akşehir, Konya</td>\n",
       "      <td>1.860.000 TL</td>\n",
       "      <td>75</td>\n",
       "      <td>0</td>\n",
       "      <td>Konya</td>\n",
       "    </tr>\n",
       "    <tr>\n",
       "      <th>1</th>\n",
       "      <td>5115610</td>\n",
       "      <td>130.0</td>\n",
       "      <td>141.0</td>\n",
       "      <td>3.0</td>\n",
       "      <td>1.0</td>\n",
       "      <td>5</td>\n",
       "      <td>1.00000</td>\n",
       "      <td>3</td>\n",
       "      <td>21</td>\n",
       "      <td>9.000000</td>\n",
       "      <td>İstasyon, Akşehir, Konya</td>\n",
       "      <td>1.675.000 TL</td>\n",
       "      <td>85</td>\n",
       "      <td>0</td>\n",
       "      <td>Konya</td>\n",
       "    </tr>\n",
       "    <tr>\n",
       "      <th>2</th>\n",
       "      <td>5142613</td>\n",
       "      <td>155.0</td>\n",
       "      <td>180.0</td>\n",
       "      <td>5.0</td>\n",
       "      <td>2.0</td>\n",
       "      <td>5</td>\n",
       "      <td>1.54185</td>\n",
       "      <td>2</td>\n",
       "      <td>0</td>\n",
       "      <td>18.000000</td>\n",
       "      <td>Gazi, Akşehir, Konya</td>\n",
       "      <td>3.500.000 TL</td>\n",
       "      <td>30</td>\n",
       "      <td>0</td>\n",
       "      <td>Konya</td>\n",
       "    </tr>\n",
       "    <tr>\n",
       "      <th>3</th>\n",
       "      <td>5055209</td>\n",
       "      <td>130.0</td>\n",
       "      <td>145.0</td>\n",
       "      <td>3.0</td>\n",
       "      <td>1.0</td>\n",
       "      <td>4</td>\n",
       "      <td>1.00000</td>\n",
       "      <td>1</td>\n",
       "      <td>11</td>\n",
       "      <td>10.130935</td>\n",
       "      <td>Kileci, Akşehir, Konya</td>\n",
       "      <td>1.625.000.000 TL</td>\n",
       "      <td>47</td>\n",
       "      <td>0</td>\n",
       "      <td>Konya</td>\n",
       "    </tr>\n",
       "    <tr>\n",
       "      <th>4</th>\n",
       "      <td>5137354</td>\n",
       "      <td>145.0</td>\n",
       "      <td>165.0</td>\n",
       "      <td>4.0</td>\n",
       "      <td>1.0</td>\n",
       "      <td>5</td>\n",
       "      <td>1.00000</td>\n",
       "      <td>4</td>\n",
       "      <td>6</td>\n",
       "      <td>17.000000</td>\n",
       "      <td>Yeni, Akşehir, Konya</td>\n",
       "      <td>3.550.000 TL</td>\n",
       "      <td>75</td>\n",
       "      <td>0</td>\n",
       "      <td>Konya</td>\n",
       "    </tr>\n",
       "  </tbody>\n",
       "</table>\n",
       "</div>"
      ],
      "text/plain": [
       "   İlan_no  Net_m²  Brüt_m²  Oda_Sayısı  Banyo_Sayısı  Binadaki_Kat_Sayısı  \\\n",
       "0  5145472   115.0    128.0         4.0           1.0                    3   \n",
       "1  5115610   130.0    141.0         3.0           1.0                    5   \n",
       "2  5142613   155.0    180.0         5.0           2.0                    5   \n",
       "3  5055209   130.0    145.0         3.0           1.0                    4   \n",
       "4  5137354   145.0    165.0         4.0           1.0                    5   \n",
       "\n",
       "   Isıtma_Tipi  Bulunduğu_Kat  Bina_Yaşı  Kira_Getirisi  \\\n",
       "0      1.00000              2         26      10.000000   \n",
       "1      1.00000              3         21       9.000000   \n",
       "2      1.54185              2          0      18.000000   \n",
       "3      1.00000              1         11      10.130935   \n",
       "4      1.00000              4          6      17.000000   \n",
       "\n",
       "                   Location             Price  mahalle  ilçe     il  \n",
       "0      Yeni, Akşehir, Konya      1.860.000 TL       75     0  Konya  \n",
       "1  İstasyon, Akşehir, Konya      1.675.000 TL       85     0  Konya  \n",
       "2      Gazi, Akşehir, Konya      3.500.000 TL       30     0  Konya  \n",
       "3    Kileci, Akşehir, Konya  1.625.000.000 TL       47     0  Konya  \n",
       "4      Yeni, Akşehir, Konya      3.550.000 TL       75     0  Konya  "
      ]
     },
     "execution_count": 61,
     "metadata": {},
     "output_type": "execute_result"
    }
   ],
   "source": [
    "df.head()"
   ]
  },
  {
   "cell_type": "code",
   "execution_count": 62,
   "id": "c0c55478",
   "metadata": {},
   "outputs": [],
   "source": [
    "df[\"Price\"] = df[\"Price\"].apply(lambda x: ''.join(filter(str.isdigit, str(x))) if pd.notna(x) else x)\n",
    "df[\"Price\"] = df[\"Price\"].str.replace(\",\", \"\").astype(\"float\")"
   ]
  },
  {
   "cell_type": "code",
   "execution_count": 63,
   "id": "aa97c395",
   "metadata": {
    "scrolled": true
   },
   "outputs": [
    {
     "name": "stdout",
     "output_type": "stream",
     "text": [
      "<class 'pandas.core.frame.DataFrame'>\n",
      "RangeIndex: 295 entries, 0 to 294\n",
      "Data columns (total 15 columns):\n",
      " #   Column               Non-Null Count  Dtype  \n",
      "---  ------               --------------  -----  \n",
      " 0   İlan_no              295 non-null    int64  \n",
      " 1   Net_m²               295 non-null    float32\n",
      " 2   Brüt_m²              295 non-null    float64\n",
      " 3   Oda_Sayısı           295 non-null    float64\n",
      " 4   Banyo_Sayısı         295 non-null    float64\n",
      " 5   Binadaki_Kat_Sayısı  295 non-null    int32  \n",
      " 6   Isıtma_Tipi          295 non-null    float64\n",
      " 7   Bulunduğu_Kat        295 non-null    int32  \n",
      " 8   Bina_Yaşı            295 non-null    int32  \n",
      " 9   Kira_Getirisi        295 non-null    float64\n",
      " 10  Location             295 non-null    object \n",
      " 11  Price                295 non-null    float64\n",
      " 12  mahalle              295 non-null    int32  \n",
      " 13  ilçe                 295 non-null    int32  \n",
      " 14  il                   295 non-null    object \n",
      "dtypes: float32(1), float64(6), int32(5), int64(1), object(2)\n",
      "memory usage: 27.8+ KB\n"
     ]
    }
   ],
   "source": [
    "df.info()"
   ]
  },
  {
   "cell_type": "code",
   "execution_count": 64,
   "id": "2a232db7",
   "metadata": {
    "scrolled": true
   },
   "outputs": [
    {
     "data": {
      "text/plain": [
       "İlan_no                0\n",
       "Net_m²                 0\n",
       "Brüt_m²                0\n",
       "Oda_Sayısı             0\n",
       "Banyo_Sayısı           0\n",
       "Binadaki_Kat_Sayısı    0\n",
       "Isıtma_Tipi            0\n",
       "Bulunduğu_Kat          0\n",
       "Bina_Yaşı              0\n",
       "Kira_Getirisi          0\n",
       "Location               0\n",
       "Price                  0\n",
       "mahalle                0\n",
       "ilçe                   0\n",
       "il                     0\n",
       "dtype: int64"
      ]
     },
     "execution_count": 64,
     "metadata": {},
     "output_type": "execute_result"
    }
   ],
   "source": [
    "df.isnull().sum()"
   ]
  },
  {
   "cell_type": "code",
   "execution_count": 65,
   "id": "2c9ce818",
   "metadata": {},
   "outputs": [
    {
     "name": "stdout",
     "output_type": "stream",
     "text": [
      "<class 'pandas.core.frame.DataFrame'>\n",
      "RangeIndex: 295 entries, 0 to 294\n",
      "Data columns (total 15 columns):\n",
      " #   Column               Non-Null Count  Dtype  \n",
      "---  ------               --------------  -----  \n",
      " 0   İlan_no              295 non-null    int64  \n",
      " 1   Net_m²               295 non-null    float32\n",
      " 2   Brüt_m²              295 non-null    float64\n",
      " 3   Oda_Sayısı           295 non-null    float64\n",
      " 4   Banyo_Sayısı         295 non-null    float64\n",
      " 5   Binadaki_Kat_Sayısı  295 non-null    int32  \n",
      " 6   Isıtma_Tipi          295 non-null    float64\n",
      " 7   Bulunduğu_Kat        295 non-null    int32  \n",
      " 8   Bina_Yaşı            295 non-null    int32  \n",
      " 9   Kira_Getirisi        295 non-null    float64\n",
      " 10  Location             295 non-null    object \n",
      " 11  Price                295 non-null    float64\n",
      " 12  mahalle              295 non-null    int32  \n",
      " 13  ilçe                 295 non-null    int32  \n",
      " 14  il                   295 non-null    object \n",
      "dtypes: float32(1), float64(6), int32(5), int64(1), object(2)\n",
      "memory usage: 27.8+ KB\n"
     ]
    }
   ],
   "source": [
    "df.info()"
   ]
  },
  {
   "cell_type": "code",
   "execution_count": 66,
   "id": "ce21c3c6",
   "metadata": {},
   "outputs": [
    {
     "data": {
      "text/html": [
       "<div>\n",
       "<style scoped>\n",
       "    .dataframe tbody tr th:only-of-type {\n",
       "        vertical-align: middle;\n",
       "    }\n",
       "\n",
       "    .dataframe tbody tr th {\n",
       "        vertical-align: top;\n",
       "    }\n",
       "\n",
       "    .dataframe thead th {\n",
       "        text-align: right;\n",
       "    }\n",
       "</style>\n",
       "<table border=\"1\" class=\"dataframe\">\n",
       "  <thead>\n",
       "    <tr style=\"text-align: right;\">\n",
       "      <th></th>\n",
       "      <th>İlan_no</th>\n",
       "      <th>Net_m²</th>\n",
       "      <th>Brüt_m²</th>\n",
       "      <th>Oda_Sayısı</th>\n",
       "      <th>Banyo_Sayısı</th>\n",
       "      <th>Binadaki_Kat_Sayısı</th>\n",
       "      <th>Isıtma_Tipi</th>\n",
       "      <th>Bulunduğu_Kat</th>\n",
       "      <th>Bina_Yaşı</th>\n",
       "      <th>Kira_Getirisi</th>\n",
       "      <th>Location</th>\n",
       "      <th>Price</th>\n",
       "      <th>mahalle</th>\n",
       "      <th>ilçe</th>\n",
       "      <th>il</th>\n",
       "    </tr>\n",
       "  </thead>\n",
       "  <tbody>\n",
       "    <tr>\n",
       "      <th>0</th>\n",
       "      <td>5145472</td>\n",
       "      <td>115.0</td>\n",
       "      <td>128.0</td>\n",
       "      <td>4.0</td>\n",
       "      <td>1.0</td>\n",
       "      <td>3</td>\n",
       "      <td>1.00000</td>\n",
       "      <td>2</td>\n",
       "      <td>26</td>\n",
       "      <td>10.000000</td>\n",
       "      <td>Yeni, Akşehir, Konya</td>\n",
       "      <td>1.860000e+06</td>\n",
       "      <td>75</td>\n",
       "      <td>0</td>\n",
       "      <td>Konya</td>\n",
       "    </tr>\n",
       "    <tr>\n",
       "      <th>1</th>\n",
       "      <td>5115610</td>\n",
       "      <td>130.0</td>\n",
       "      <td>141.0</td>\n",
       "      <td>3.0</td>\n",
       "      <td>1.0</td>\n",
       "      <td>5</td>\n",
       "      <td>1.00000</td>\n",
       "      <td>3</td>\n",
       "      <td>21</td>\n",
       "      <td>9.000000</td>\n",
       "      <td>İstasyon, Akşehir, Konya</td>\n",
       "      <td>1.675000e+06</td>\n",
       "      <td>85</td>\n",
       "      <td>0</td>\n",
       "      <td>Konya</td>\n",
       "    </tr>\n",
       "    <tr>\n",
       "      <th>2</th>\n",
       "      <td>5142613</td>\n",
       "      <td>155.0</td>\n",
       "      <td>180.0</td>\n",
       "      <td>5.0</td>\n",
       "      <td>2.0</td>\n",
       "      <td>5</td>\n",
       "      <td>1.54185</td>\n",
       "      <td>2</td>\n",
       "      <td>0</td>\n",
       "      <td>18.000000</td>\n",
       "      <td>Gazi, Akşehir, Konya</td>\n",
       "      <td>3.500000e+06</td>\n",
       "      <td>30</td>\n",
       "      <td>0</td>\n",
       "      <td>Konya</td>\n",
       "    </tr>\n",
       "    <tr>\n",
       "      <th>3</th>\n",
       "      <td>5055209</td>\n",
       "      <td>130.0</td>\n",
       "      <td>145.0</td>\n",
       "      <td>3.0</td>\n",
       "      <td>1.0</td>\n",
       "      <td>4</td>\n",
       "      <td>1.00000</td>\n",
       "      <td>1</td>\n",
       "      <td>11</td>\n",
       "      <td>10.130935</td>\n",
       "      <td>Kileci, Akşehir, Konya</td>\n",
       "      <td>1.625000e+09</td>\n",
       "      <td>47</td>\n",
       "      <td>0</td>\n",
       "      <td>Konya</td>\n",
       "    </tr>\n",
       "    <tr>\n",
       "      <th>4</th>\n",
       "      <td>5137354</td>\n",
       "      <td>145.0</td>\n",
       "      <td>165.0</td>\n",
       "      <td>4.0</td>\n",
       "      <td>1.0</td>\n",
       "      <td>5</td>\n",
       "      <td>1.00000</td>\n",
       "      <td>4</td>\n",
       "      <td>6</td>\n",
       "      <td>17.000000</td>\n",
       "      <td>Yeni, Akşehir, Konya</td>\n",
       "      <td>3.550000e+06</td>\n",
       "      <td>75</td>\n",
       "      <td>0</td>\n",
       "      <td>Konya</td>\n",
       "    </tr>\n",
       "  </tbody>\n",
       "</table>\n",
       "</div>"
      ],
      "text/plain": [
       "   İlan_no  Net_m²  Brüt_m²  Oda_Sayısı  Banyo_Sayısı  Binadaki_Kat_Sayısı  \\\n",
       "0  5145472   115.0    128.0         4.0           1.0                    3   \n",
       "1  5115610   130.0    141.0         3.0           1.0                    5   \n",
       "2  5142613   155.0    180.0         5.0           2.0                    5   \n",
       "3  5055209   130.0    145.0         3.0           1.0                    4   \n",
       "4  5137354   145.0    165.0         4.0           1.0                    5   \n",
       "\n",
       "   Isıtma_Tipi  Bulunduğu_Kat  Bina_Yaşı  Kira_Getirisi  \\\n",
       "0      1.00000              2         26      10.000000   \n",
       "1      1.00000              3         21       9.000000   \n",
       "2      1.54185              2          0      18.000000   \n",
       "3      1.00000              1         11      10.130935   \n",
       "4      1.00000              4          6      17.000000   \n",
       "\n",
       "                   Location         Price  mahalle  ilçe     il  \n",
       "0      Yeni, Akşehir, Konya  1.860000e+06       75     0  Konya  \n",
       "1  İstasyon, Akşehir, Konya  1.675000e+06       85     0  Konya  \n",
       "2      Gazi, Akşehir, Konya  3.500000e+06       30     0  Konya  \n",
       "3    Kileci, Akşehir, Konya  1.625000e+09       47     0  Konya  \n",
       "4      Yeni, Akşehir, Konya  3.550000e+06       75     0  Konya  "
      ]
     },
     "execution_count": 66,
     "metadata": {},
     "output_type": "execute_result"
    }
   ],
   "source": [
    "df.head()"
   ]
  },
  {
   "cell_type": "code",
   "execution_count": 96,
   "id": "58297827",
   "metadata": {},
   "outputs": [
    {
     "data": {
      "text/plain": [
       "<Axes: xlabel='Price', ylabel='Count'>"
      ]
     },
     "execution_count": 96,
     "metadata": {},
     "output_type": "execute_result"
    },
    {
     "data": {
      "image/png": "[encoded data removed]",
      "text/plain": [
       "<Figure size 640x480 with 1 Axes>"
      ]
     },
     "metadata": {},
     "output_type": "display_data"
    }
   ],
   "source": [
    "sns.histplot(x=df['Price'],kde=True, bins=20)"
   ]
  },
  {
   "cell_type": "code",
   "execution_count": 68,
   "id": "f1586b48",
   "metadata": {},
   "outputs": [
    {
     "name": "stderr",
     "output_type": "stream",
     "text": [
      "C:\\Users\\HP\\anaconda3\\Lib\\site-packages\\seaborn\\_oldcore.py:1119: FutureWarning: use_inf_as_na option is deprecated and will be removed in a future version. Convert inf values to NaN before operating instead.\n",
      "  with pd.option_context('mode.use_inf_as_na', True):\n"
     ]
    },
    {
     "data": {
      "text/plain": [
       "<Axes: xlabel='Net_m²', ylabel='Count'>"
      ]
     },
     "execution_count": 68,
     "metadata": {},
     "output_type": "execute_result"
    },
    {
     "data": {
      "image/png": "[encoded data removed]",
      "text/plain": [
       "<Figure size 640x480 with 1 Axes>"
      ]
     },
     "metadata": {},
     "output_type": "display_data"
    }
   ],
   "source": [
    "sns.histplot(x=df['Net_m²'],kde=True, bins=20)"
   ]
  },
  {
   "cell_type": "code",
   "execution_count": 69,
   "id": "967d6387",
   "metadata": {},
   "outputs": [
    {
     "name": "stderr",
     "output_type": "stream",
     "text": [
      "C:\\Users\\HP\\anaconda3\\Lib\\site-packages\\seaborn\\_oldcore.py:1119: FutureWarning: use_inf_as_na option is deprecated and will be removed in a future version. Convert inf values to NaN before operating instead.\n",
      "  with pd.option_context('mode.use_inf_as_na', True):\n"
     ]
    },
    {
     "data": {
      "text/plain": [
       "<Axes: xlabel='Oda_Sayısı', ylabel='Count'>"
      ]
     },
     "execution_count": 69,
     "metadata": {},
     "output_type": "execute_result"
    },
    {
     "data": {
      "image/png": "[encoded data removed]",
      "text/plain": [
       "<Figure size 640x480 with 1 Axes>"
      ]
     },
     "metadata": {},
     "output_type": "display_data"
    }
   ],
   "source": [
    "sns.histplot(x=df['Oda_Sayısı'],kde=True, bins=20)"
   ]
  },
  {
   "cell_type": "code",
   "execution_count": 70,
   "id": "861394e9",
   "metadata": {},
   "outputs": [
    {
     "name": "stderr",
     "output_type": "stream",
     "text": [
      "C:\\Users\\HP\\anaconda3\\Lib\\site-packages\\seaborn\\_oldcore.py:1119: FutureWarning: use_inf_as_na option is deprecated and will be removed in a future version. Convert inf values to NaN before operating instead.\n",
      "  with pd.option_context('mode.use_inf_as_na', True):\n"
     ]
    },
    {
     "data": {
      "text/plain": [
       "<Axes: xlabel='Kira_Getirisi', ylabel='Count'>"
      ]
     },
     "execution_count": 70,
     "metadata": {},
     "output_type": "execute_result"
    },
    {
     "data": {
      "image/png": "[encoded data removed]",
      "text/plain": [
       "<Figure size 640x480 with 1 Axes>"
      ]
     },
     "metadata": {},
     "output_type": "display_data"
    }
   ],
   "source": [
    "sns.histplot(x=df['Kira_Getirisi'],kde=True, bins=20)"
   ]
  },
  {
   "cell_type": "code",
   "execution_count": 71,
   "id": "b823dcb4",
   "metadata": {},
   "outputs": [
    {
     "name": "stderr",
     "output_type": "stream",
     "text": [
      "C:\\Users\\HP\\anaconda3\\Lib\\site-packages\\seaborn\\_oldcore.py:1119: FutureWarning: use_inf_as_na option is deprecated and will be removed in a future version. Convert inf values to NaN before operating instead.\n",
      "  with pd.option_context('mode.use_inf_as_na', True):\n"
     ]
    },
    {
     "data": {
      "text/plain": [
       "<Axes: xlabel='Bina_Yaşı', ylabel='Count'>"
      ]
     },
     "execution_count": 71,
     "metadata": {},
     "output_type": "execute_result"
    },
    {
     "data": {
      "image/png": "[encoded data removed]",
      "text/plain": [
       "<Figure size 640x480 with 1 Axes>"
      ]
     },
     "metadata": {},
     "output_type": "display_data"
    }
   ],
   "source": [
    "sns.histplot(x=df['Bina_Yaşı'],kde=True, bins=20)"
   ]
  },
  {
   "cell_type": "markdown",
   "id": "1f91da36",
   "metadata": {},
   "source": [
    "## Outlier Tespiti ve Kaldırılması"
   ]
  },
  {
   "cell_type": "code",
   "execution_count": 72,
   "id": "998c512a",
   "metadata": {
    "scrolled": true
   },
   "outputs": [
    {
     "data": {
      "text/plain": [
       "<Axes: xlabel='Price'>"
      ]
     },
     "execution_count": 72,
     "metadata": {},
     "output_type": "execute_result"
    },
    {
     "data": {
      "image/png": "[encoded data removed]",
      "text/plain": [
       "<Figure size 640x480 with 1 Axes>"
      ]
     },
     "metadata": {},
     "output_type": "display_data"
    }
   ],
   "source": [
    "sns.boxplot(x=df['Price'])"
   ]
  },
  {
   "cell_type": "code",
   "execution_count": 73,
   "id": "b00d12a8",
   "metadata": {},
   "outputs": [
    {
     "data": {
      "text/plain": [
       "<Axes: xlabel='Bina_Yaşı'>"
      ]
     },
     "execution_count": 73,
     "metadata": {},
     "output_type": "execute_result"
    },
    {
     "data": {
      "image/png": "[encoded data removed]",
      "text/plain": [
       "<Figure size 640x480 with 1 Axes>"
      ]
     },
     "metadata": {},
     "output_type": "display_data"
    }
   ],
   "source": [
    "sns.boxplot(x=df['Bina_Yaşı'])"
   ]
  },
  {
   "cell_type": "code",
   "execution_count": 74,
   "id": "67d8abca",
   "metadata": {},
   "outputs": [
    {
     "data": {
      "text/plain": [
       "<Axes: xlabel='Net_m²'>"
      ]
     },
     "execution_count": 74,
     "metadata": {},
     "output_type": "execute_result"
    },
    {
     "data": {
      "image/png": "[encoded data removed]",
      "text/plain": [
       "<Figure size 640x480 with 1 Axes>"
      ]
     },
     "metadata": {},
     "output_type": "display_data"
    }
   ],
   "source": [
    "sns.boxplot(x=df['Net_m²'])"
   ]
  },
  {
   "cell_type": "code",
   "execution_count": 75,
   "id": "4b05331c",
   "metadata": {
    "scrolled": true
   },
   "outputs": [
    {
     "data": {
      "text/plain": [
       "<Axes: xlabel='Brüt_m²'>"
      ]
     },
     "execution_count": 75,
     "metadata": {},
     "output_type": "execute_result"
    },
    {
     "data": {
      "image/png": "[encoded data removed]",
      "text/plain": [
       "<Figure size 640x480 with 1 Axes>"
      ]
     },
     "metadata": {},
     "output_type": "display_data"
    }
   ],
   "source": [
    "sns.boxplot(x=df['Brüt_m²'])"
   ]
  },
  {
   "cell_type": "code",
   "execution_count": 76,
   "id": "918d52e5",
   "metadata": {
    "scrolled": true
   },
   "outputs": [
    {
     "data": {
      "text/plain": [
       "<Axes: xlabel='Oda_Sayısı'>"
      ]
     },
     "execution_count": 76,
     "metadata": {},
     "output_type": "execute_result"
    },
    {
     "data": {
      "image/png": "[encoded data removed]",
      "text/plain": [
       "<Figure size 640x480 with 1 Axes>"
      ]
     },
     "metadata": {},
     "output_type": "display_data"
    }
   ],
   "source": [
    "sns.boxplot(x=df['Oda_Sayısı'])"
   ]
  },
  {
   "cell_type": "code",
   "execution_count": 77,
   "id": "79ce7839",
   "metadata": {
    "scrolled": true
   },
   "outputs": [
    {
     "data": {
      "text/plain": [
       "<Axes: xlabel='Banyo_Sayısı'>"
      ]
     },
     "execution_count": 77,
     "metadata": {},
     "output_type": "execute_result"
    },
    {
     "data": {
      "image/png": "[encoded data removed]",
      "text/plain": [
       "<Figure size 640x480 with 1 Axes>"
      ]
     },
     "metadata": {},
     "output_type": "display_data"
    }
   ],
   "source": [
    "sns.boxplot(x=df['Banyo_Sayısı'])"
   ]
  },
  {
   "cell_type": "code",
   "execution_count": 78,
   "id": "da23a0ce",
   "metadata": {},
   "outputs": [
    {
     "data": {
      "text/plain": [
       "<Axes: xlabel='Kira_Getirisi'>"
      ]
     },
     "execution_count": 78,
     "metadata": {},
     "output_type": "execute_result"
    },
    {
     "data": {
      "image/png": "[encoded data removed]",
      "text/plain": [
       "<Figure size 640x480 with 1 Axes>"
      ]
     },
     "metadata": {},
     "output_type": "display_data"
    }
   ],
   "source": [
    "sns.boxplot(x=df['Kira_Getirisi'])"
   ]
  },
  {
   "cell_type": "code",
   "execution_count": 79,
   "id": "e0f4121d",
   "metadata": {},
   "outputs": [],
   "source": [
    "outliers=df.quantile(q=.97, numeric_only=True)"
   ]
  },
  {
   "cell_type": "code",
   "execution_count": 80,
   "id": "5d9ac745",
   "metadata": {},
   "outputs": [],
   "source": [
    "df=df[(df['Price']<outliers['Price'])]\n",
    "df=df[(df['Net_m²']<outliers['Net_m²'])]\n",
    "df=df[(df['Net_m²']<outliers['Brüt_m²'])]\n",
    "df=df[(df['Oda_Sayısı']<outliers['Oda_Sayısı'])]\n",
    "df=df[(df['Banyo_Sayısı']<outliers['Banyo_Sayısı'])]\n",
    "df=df[(df['Kira_Getirisi']<outliers['Kira_Getirisi'])]"
   ]
  },
  {
   "cell_type": "code",
   "execution_count": 81,
   "id": "0e5fcd2d",
   "metadata": {},
   "outputs": [
    {
     "data": {
      "text/plain": [
       "<Axes: xlabel='Price'>"
      ]
     },
     "execution_count": 81,
     "metadata": {},
     "output_type": "execute_result"
    },
    {
     "data": {
      "image/png": "[encoded data removed]",
      "text/plain": [
       "<Figure size 640x480 with 1 Axes>"
      ]
     },
     "metadata": {},
     "output_type": "display_data"
    }
   ],
   "source": [
    "sns.boxplot(x=df['Price'])"
   ]
  },
  {
   "cell_type": "code",
   "execution_count": 82,
   "id": "d7545e2d",
   "metadata": {},
   "outputs": [
    {
     "data": {
      "text/plain": [
       "Index(['İlan_no', 'Net_m²', 'Brüt_m²', 'Oda_Sayısı', 'Banyo_Sayısı',\n",
       "       'Binadaki_Kat_Sayısı', 'Isıtma_Tipi', 'Bulunduğu_Kat', 'Bina_Yaşı',\n",
       "       'Kira_Getirisi', 'Location', 'Price', 'mahalle', 'ilçe', 'il'],\n",
       "      dtype='object')"
      ]
     },
     "execution_count": 82,
     "metadata": {},
     "output_type": "execute_result"
    }
   ],
   "source": [
    "df.columns"
   ]
  },
  {
   "cell_type": "code",
   "execution_count": 83,
   "id": "e9be7e46",
   "metadata": {},
   "outputs": [],
   "source": [
    "#Feature engineering\n",
    "df['Banyo_Sayısı']=df['Banyo_Sayısı']**2\n",
    "df['Oda_Sayısı']=df['Oda_Sayısı']**2"
   ]
  },
  {
   "cell_type": "code",
   "execution_count": 84,
   "id": "d9515566",
   "metadata": {},
   "outputs": [
    {
     "data": {
      "text/plain": [
       "(260, 15)"
      ]
     },
     "execution_count": 84,
     "metadata": {},
     "output_type": "execute_result"
    }
   ],
   "source": [
    "df.shape"
   ]
  },
  {
   "cell_type": "code",
   "execution_count": 85,
   "id": "c76d72cd",
   "metadata": {},
   "outputs": [
    {
     "name": "stdout",
     "output_type": "stream",
     "text": [
      "<class 'pandas.core.frame.DataFrame'>\n",
      "Index: 260 entries, 0 to 294\n",
      "Data columns (total 15 columns):\n",
      " #   Column               Non-Null Count  Dtype  \n",
      "---  ------               --------------  -----  \n",
      " 0   İlan_no              260 non-null    int64  \n",
      " 1   Net_m²               260 non-null    float32\n",
      " 2   Brüt_m²              260 non-null    float64\n",
      " 3   Oda_Sayısı           260 non-null    float64\n",
      " 4   Banyo_Sayısı         260 non-null    float64\n",
      " 5   Binadaki_Kat_Sayısı  260 non-null    int32  \n",
      " 6   Isıtma_Tipi          260 non-null    float64\n",
      " 7   Bulunduğu_Kat        260 non-null    int32  \n",
      " 8   Bina_Yaşı            260 non-null    int32  \n",
      " 9   Kira_Getirisi        260 non-null    float64\n",
      " 10  Location             260 non-null    object \n",
      " 11  Price                260 non-null    float64\n",
      " 12  mahalle              260 non-null    int32  \n",
      " 13  ilçe                 260 non-null    int32  \n",
      " 14  il                   260 non-null    object \n",
      "dtypes: float32(1), float64(6), int32(5), int64(1), object(2)\n",
      "memory usage: 26.4+ KB\n"
     ]
    }
   ],
   "source": [
    "df.info()"
   ]
  },
  {
   "cell_type": "code",
   "execution_count": 86,
   "id": "8fd2bbee",
   "metadata": {},
   "outputs": [],
   "source": [
    "x=df.drop(['Price','il','Location'],axis=1)\n",
    "y=df[['Price']]"
   ]
  },
  {
   "cell_type": "code",
   "execution_count": 87,
   "id": "108cf81f",
   "metadata": {},
   "outputs": [],
   "source": [
    "from sklearn.preprocessing import normalize, scale"
   ]
  },
  {
   "cell_type": "code",
   "execution_count": 88,
   "id": "cd57817a",
   "metadata": {},
   "outputs": [],
   "source": [
    "yenix=scale(x)"
   ]
  },
  {
   "cell_type": "code",
   "execution_count": 89,
   "id": "55e46567",
   "metadata": {},
   "outputs": [],
   "source": [
    "from sklearn.model_selection import train_test_split "
   ]
  },
  {
   "cell_type": "code",
   "execution_count": 90,
   "id": "a16633ed",
   "metadata": {},
   "outputs": [],
   "source": [
    "x_train,x_test,y_train,y_test=train_test_split(yenix,y,test_size=.20,random_state=42) #train test sprit"
   ]
  },
  {
   "cell_type": "code",
   "execution_count": 91,
   "id": "e2d2de32",
   "metadata": {},
   "outputs": [],
   "source": [
    "import pandas as pd\n",
    "import numpy as np\n",
    "import matplotlib.pyplot as plt\n",
    "import seaborn as sns\n",
    "import warnings\n",
    "warnings.filterwarnings(\"ignore\")\n",
    "pd.set_option(\"display.max_columns\",100)\n",
    "\n",
    "from sklearn.linear_model import LinearRegression,SGDRegressor,Ridge,Lasso,ElasticNet\n",
    "from sklearn.neighbors import KNeighborsRegressor, RadiusNeighborsRegressor\n",
    "from sklearn.ensemble import GradientBoostingRegressor,AdaBoostRegressor\n",
    "from sklearn.tree import DecisionTreeRegressor, plot_tree, ExtraTreeRegressor\n",
    "#pip install xgboost\n",
    "from xgboost import XGBRegressor\n",
    "from sklearn.svm import SVR\n",
    "\n",
    "from sklearn.neural_network import MLPRegressor\n",
    "\n",
    "from sklearn.model_selection import train_test_split\n",
    "from sklearn.metrics import mean_squared_error,r2_score,mean_absolute_error\n",
    "\n",
    "from sklearn.preprocessing import StandardScaler\n",
    "\n",
    "\n",
    "def algo_test(yenix,y):\n",
    "        #Bütün modelleri tanımlıyorum\n",
    "        L=LinearRegression()\n",
    "        R=Ridge()\n",
    "        Lass=Lasso()\n",
    "        E=ElasticNet()\n",
    "        sgd=SGDRegressor()\n",
    "        ETR=ExtraTreeRegressor()\n",
    "        GBR=GradientBoostingRegressor()\n",
    "        kn=KNeighborsRegressor()\n",
    "        rkn=RadiusNeighborsRegressor(radius=1.0)\n",
    "        ada=AdaBoostRegressor()\n",
    "        dt=DecisionTreeRegressor()\n",
    "        xgb=XGBRegressor()\n",
    "        svr=SVR()\n",
    "        mlp_regressor = MLPRegressor()\n",
    "\n",
    "       \n",
    "        \n",
    "        algos=[L,R,Lass,E,sgd,ETR,GBR,ada,kn,dt,xgb,svr,mlp_regressor]\n",
    "        algo_names=['Linear','Ridge','Lasso','ElasticNet','SGD','Extra Tree','Gradient Boosting',\n",
    "                    'KNeighborsRegressor','AdaBoost','Decision Tree','XGBRegressor','SVR','mlp_regressor']\n",
    "        \n",
    "        x_train, x_test, y_train, y_test=train_test_split(x,y,test_size=.2,random_state=42)\n",
    "        \n",
    "        r_squared= []\n",
    "        rmse= []\n",
    "        mae= []\n",
    "        \n",
    "        #Hata ve doğruluk oranlarını bir tablo haline getirmek için bir dataframe oluşturuyorum\n",
    "        result=pd.DataFrame(columns=['R_Squared','RMSE','MAE'],index=algo_names)\n",
    "        \n",
    "        \n",
    "        for algo in algos:\n",
    "            p=algo.fit(x_train,y_train).predict(x_test)\n",
    "            r_squared.append(r2_score(y_test,p))\n",
    "            rmse.append(mean_squared_error(y_test,p)**.5)\n",
    "            mae.append(mean_absolute_error(y_test,p))\n",
    "        \n",
    "            \n",
    "\n",
    "        #result adlı tabloya doğruluk ve hata oranlarımı yerleştiriyorum\n",
    "        result.R_Squared=r_squared\n",
    "        result.RMSE=rmse\n",
    "        result.MAE=mae\n",
    "        \n",
    "       #oluşturduğum result tablosunu doğruluk oranına (r2_score) göre sıralayıp dönüyor\n",
    "        rtable=result.sort_values('R_Squared',ascending=False)\n",
    "        return rtable"
   ]
  },
  {
   "cell_type": "code",
   "execution_count": 92,
   "id": "66af331f",
   "metadata": {},
   "outputs": [
    {
     "data": {
      "text/html": [
       "<div>\n",
       "<style scoped>\n",
       "    .dataframe tbody tr th:only-of-type {\n",
       "        vertical-align: middle;\n",
       "    }\n",
       "\n",
       "    .dataframe tbody tr th {\n",
       "        vertical-align: top;\n",
       "    }\n",
       "\n",
       "    .dataframe thead th {\n",
       "        text-align: right;\n",
       "    }\n",
       "</style>\n",
       "<table border=\"1\" class=\"dataframe\">\n",
       "  <thead>\n",
       "    <tr style=\"text-align: right;\">\n",
       "      <th></th>\n",
       "      <th>R_Squared</th>\n",
       "      <th>RMSE</th>\n",
       "      <th>MAE</th>\n",
       "    </tr>\n",
       "  </thead>\n",
       "  <tbody>\n",
       "    <tr>\n",
       "      <th>Gradient Boosting</th>\n",
       "      <td>8.085801e-01</td>\n",
       "      <td>6.984679e+05</td>\n",
       "      <td>4.819857e+05</td>\n",
       "    </tr>\n",
       "    <tr>\n",
       "      <th>XGBRegressor</th>\n",
       "      <td>7.545805e-01</td>\n",
       "      <td>7.908741e+05</td>\n",
       "      <td>4.908497e+05</td>\n",
       "    </tr>\n",
       "    <tr>\n",
       "      <th>KNeighborsRegressor</th>\n",
       "      <td>7.418781e-01</td>\n",
       "      <td>8.110829e+05</td>\n",
       "      <td>6.298814e+05</td>\n",
       "    </tr>\n",
       "    <tr>\n",
       "      <th>Ridge</th>\n",
       "      <td>6.986332e-01</td>\n",
       "      <td>8.763964e+05</td>\n",
       "      <td>6.546524e+05</td>\n",
       "    </tr>\n",
       "    <tr>\n",
       "      <th>Lasso</th>\n",
       "      <td>6.986180e-01</td>\n",
       "      <td>8.764185e+05</td>\n",
       "      <td>6.545296e+05</td>\n",
       "    </tr>\n",
       "    <tr>\n",
       "      <th>Linear</th>\n",
       "      <td>6.986178e-01</td>\n",
       "      <td>8.764187e+05</td>\n",
       "      <td>6.545295e+05</td>\n",
       "    </tr>\n",
       "    <tr>\n",
       "      <th>ElasticNet</th>\n",
       "      <td>6.938162e-01</td>\n",
       "      <td>8.833727e+05</td>\n",
       "      <td>6.679718e+05</td>\n",
       "    </tr>\n",
       "    <tr>\n",
       "      <th>Extra Tree</th>\n",
       "      <td>4.397986e-01</td>\n",
       "      <td>1.194882e+06</td>\n",
       "      <td>6.593078e+05</td>\n",
       "    </tr>\n",
       "    <tr>\n",
       "      <th>AdaBoost</th>\n",
       "      <td>7.800536e-02</td>\n",
       "      <td>1.532911e+06</td>\n",
       "      <td>1.084544e+06</td>\n",
       "    </tr>\n",
       "    <tr>\n",
       "      <th>mlp_regressor</th>\n",
       "      <td>-9.956300e-03</td>\n",
       "      <td>1.604369e+06</td>\n",
       "      <td>1.122099e+06</td>\n",
       "    </tr>\n",
       "    <tr>\n",
       "      <th>SVR</th>\n",
       "      <td>-1.080753e-01</td>\n",
       "      <td>1.680496e+06</td>\n",
       "      <td>1.156712e+06</td>\n",
       "    </tr>\n",
       "    <tr>\n",
       "      <th>Decision Tree</th>\n",
       "      <td>-3.003050e-01</td>\n",
       "      <td>1.820436e+06</td>\n",
       "      <td>8.932884e+05</td>\n",
       "    </tr>\n",
       "    <tr>\n",
       "      <th>SGD</th>\n",
       "      <td>-2.100288e+32</td>\n",
       "      <td>2.313621e+22</td>\n",
       "      <td>2.312496e+22</td>\n",
       "    </tr>\n",
       "  </tbody>\n",
       "</table>\n",
       "</div>"
      ],
      "text/plain": [
       "                        R_Squared          RMSE           MAE\n",
       "Gradient Boosting    8.085801e-01  6.984679e+05  4.819857e+05\n",
       "XGBRegressor         7.545805e-01  7.908741e+05  4.908497e+05\n",
       "KNeighborsRegressor  7.418781e-01  8.110829e+05  6.298814e+05\n",
       "Ridge                6.986332e-01  8.763964e+05  6.546524e+05\n",
       "Lasso                6.986180e-01  8.764185e+05  6.545296e+05\n",
       "Linear               6.986178e-01  8.764187e+05  6.545295e+05\n",
       "ElasticNet           6.938162e-01  8.833727e+05  6.679718e+05\n",
       "Extra Tree           4.397986e-01  1.194882e+06  6.593078e+05\n",
       "AdaBoost             7.800536e-02  1.532911e+06  1.084544e+06\n",
       "mlp_regressor       -9.956300e-03  1.604369e+06  1.122099e+06\n",
       "SVR                 -1.080753e-01  1.680496e+06  1.156712e+06\n",
       "Decision Tree       -3.003050e-01  1.820436e+06  8.932884e+05\n",
       "SGD                 -2.100288e+32  2.313621e+22  2.312496e+22"
      ]
     },
     "execution_count": 92,
     "metadata": {},
     "output_type": "execute_result"
    }
   ],
   "source": [
    "algo_test(yenix,y)"
   ]
  },
  {
   "cell_type": "code",
   "execution_count": 93,
   "id": "4149ce4e",
   "metadata": {},
   "outputs": [],
   "source": [
    "normalizex=normalize(x) "
   ]
  },
  {
   "cell_type": "code",
   "execution_count": 94,
   "id": "d4a631b2",
   "metadata": {},
   "outputs": [],
   "source": [
    "import pandas as pd\n",
    "import numpy as np\n",
    "import matplotlib.pyplot as plt\n",
    "import seaborn as sns\n",
    "import warnings\n",
    "warnings.filterwarnings(\"ignore\")\n",
    "pd.set_option(\"display.max_columns\",100)\n",
    "\n",
    "from sklearn.linear_model import LinearRegression,SGDRegressor,Ridge,Lasso,ElasticNet\n",
    "from sklearn.neighbors import KNeighborsRegressor, RadiusNeighborsRegressor\n",
    "from sklearn.ensemble import GradientBoostingRegressor,AdaBoostRegressor\n",
    "from sklearn.tree import DecisionTreeRegressor, plot_tree, ExtraTreeRegressor\n",
    "#pip install xgboost\n",
    "from xgboost import XGBRegressor\n",
    "from sklearn.svm import SVR\n",
    "\n",
    "from sklearn.neural_network import MLPRegressor\n",
    "\n",
    "from sklearn.model_selection import train_test_split\n",
    "from sklearn.metrics import mean_squared_error,r2_score,mean_absolute_error\n",
    "\n",
    "from sklearn.preprocessing import StandardScaler\n",
    "\n",
    "\n",
    "def algo_test(normalizex,y):\n",
    "        #Bütün modelleri tanımlıyorum\n",
    "        L=LinearRegression()\n",
    "        R=Ridge()\n",
    "        Lass=Lasso()\n",
    "        E=ElasticNet()\n",
    "        sgd=SGDRegressor()\n",
    "        ETR=ExtraTreeRegressor()\n",
    "        GBR=GradientBoostingRegressor()\n",
    "        kn=KNeighborsRegressor()\n",
    "        rkn=RadiusNeighborsRegressor(radius=1.0)\n",
    "        ada=AdaBoostRegressor()\n",
    "        dt=DecisionTreeRegressor()\n",
    "        xgb=XGBRegressor()\n",
    "        svr=SVR()\n",
    "        mlp_regressor = MLPRegressor()\n",
    "\n",
    "       \n",
    "        \n",
    "        algos=[L,R,Lass,E,sgd,ETR,GBR,ada,kn,dt,xgb,svr,mlp_regressor]\n",
    "        algo_names=['Linear','Ridge','Lasso','ElasticNet','SGD','Extra Tree','Gradient Boosting',\n",
    "                    'KNeighborsRegressor','AdaBoost','Decision Tree','XGBRegressor','SVR','mlp_regressor']\n",
    "        \n",
    "        x_train, x_test, y_train, y_test=train_test_split(x,y,test_size=.2,random_state=42)\n",
    "        \n",
    "        r_squared= []\n",
    "        rmse= []\n",
    "        mae= []\n",
    "        \n",
    "        #Hata ve doğruluk oranlarını bir tablo haline getirmek için bir dataframe oluşturuyorum\n",
    "        result=pd.DataFrame(columns=['R_Squared','RMSE','MAE'],index=algo_names)\n",
    "        \n",
    "        \n",
    "        for algo in algos:\n",
    "            p=algo.fit(x_train,y_train).predict(x_test)\n",
    "            r_squared.append(r2_score(y_test,p))\n",
    "            rmse.append(mean_squared_error(y_test,p)**.5)\n",
    "            mae.append(mean_absolute_error(y_test,p))\n",
    "        \n",
    "            \n",
    "\n",
    "        #result adlı tabloya doğruluk ve hata oranlarımı yerleştiriyorum\n",
    "        result.R_Squared=r_squared\n",
    "        result.RMSE=rmse\n",
    "        result.MAE=mae\n",
    "        \n",
    "       #oluşturduğum result tablosunu doğruluk oranına (r2_score) göre sıralayıp dönüyor\n",
    "        rtable=result.sort_values('R_Squared',ascending=False)\n",
    "        return rtable"
   ]
  },
  {
   "cell_type": "code",
   "execution_count": 95,
   "id": "148898fc",
   "metadata": {},
   "outputs": [
    {
     "data": {
      "text/html": [
       "<div>\n",
       "<style scoped>\n",
       "    .dataframe tbody tr th:only-of-type {\n",
       "        vertical-align: middle;\n",
       "    }\n",
       "\n",
       "    .dataframe tbody tr th {\n",
       "        vertical-align: top;\n",
       "    }\n",
       "\n",
       "    .dataframe thead th {\n",
       "        text-align: right;\n",
       "    }\n",
       "</style>\n",
       "<table border=\"1\" class=\"dataframe\">\n",
       "  <thead>\n",
       "    <tr style=\"text-align: right;\">\n",
       "      <th></th>\n",
       "      <th>R_Squared</th>\n",
       "      <th>RMSE</th>\n",
       "      <th>MAE</th>\n",
       "    </tr>\n",
       "  </thead>\n",
       "  <tbody>\n",
       "    <tr>\n",
       "      <th>Gradient Boosting</th>\n",
       "      <td>8.199599e-01</td>\n",
       "      <td>6.773880e+05</td>\n",
       "      <td>4.722143e+05</td>\n",
       "    </tr>\n",
       "    <tr>\n",
       "      <th>XGBRegressor</th>\n",
       "      <td>7.545805e-01</td>\n",
       "      <td>7.908741e+05</td>\n",
       "      <td>4.908497e+05</td>\n",
       "    </tr>\n",
       "    <tr>\n",
       "      <th>Decision Tree</th>\n",
       "      <td>7.180025e-01</td>\n",
       "      <td>8.477651e+05</td>\n",
       "      <td>5.481154e+05</td>\n",
       "    </tr>\n",
       "    <tr>\n",
       "      <th>KNeighborsRegressor</th>\n",
       "      <td>7.113999e-01</td>\n",
       "      <td>8.576323e+05</td>\n",
       "      <td>6.372733e+05</td>\n",
       "    </tr>\n",
       "    <tr>\n",
       "      <th>Ridge</th>\n",
       "      <td>6.986332e-01</td>\n",
       "      <td>8.763964e+05</td>\n",
       "      <td>6.546524e+05</td>\n",
       "    </tr>\n",
       "    <tr>\n",
       "      <th>Lasso</th>\n",
       "      <td>6.986180e-01</td>\n",
       "      <td>8.764185e+05</td>\n",
       "      <td>6.545296e+05</td>\n",
       "    </tr>\n",
       "    <tr>\n",
       "      <th>Linear</th>\n",
       "      <td>6.986178e-01</td>\n",
       "      <td>8.764187e+05</td>\n",
       "      <td>6.545295e+05</td>\n",
       "    </tr>\n",
       "    <tr>\n",
       "      <th>ElasticNet</th>\n",
       "      <td>6.938162e-01</td>\n",
       "      <td>8.833727e+05</td>\n",
       "      <td>6.679718e+05</td>\n",
       "    </tr>\n",
       "    <tr>\n",
       "      <th>Extra Tree</th>\n",
       "      <td>4.792756e-01</td>\n",
       "      <td>1.152012e+06</td>\n",
       "      <td>6.157500e+05</td>\n",
       "    </tr>\n",
       "    <tr>\n",
       "      <th>AdaBoost</th>\n",
       "      <td>7.800536e-02</td>\n",
       "      <td>1.532911e+06</td>\n",
       "      <td>1.084544e+06</td>\n",
       "    </tr>\n",
       "    <tr>\n",
       "      <th>mlp_regressor</th>\n",
       "      <td>7.167035e-03</td>\n",
       "      <td>1.590710e+06</td>\n",
       "      <td>1.125739e+06</td>\n",
       "    </tr>\n",
       "    <tr>\n",
       "      <th>SVR</th>\n",
       "      <td>-1.080753e-01</td>\n",
       "      <td>1.680496e+06</td>\n",
       "      <td>1.156712e+06</td>\n",
       "    </tr>\n",
       "    <tr>\n",
       "      <th>SGD</th>\n",
       "      <td>-1.171931e+32</td>\n",
       "      <td>1.728239e+22</td>\n",
       "      <td>1.727398e+22</td>\n",
       "    </tr>\n",
       "  </tbody>\n",
       "</table>\n",
       "</div>"
      ],
      "text/plain": [
       "                        R_Squared          RMSE           MAE\n",
       "Gradient Boosting    8.199599e-01  6.773880e+05  4.722143e+05\n",
       "XGBRegressor         7.545805e-01  7.908741e+05  4.908497e+05\n",
       "Decision Tree        7.180025e-01  8.477651e+05  5.481154e+05\n",
       "KNeighborsRegressor  7.113999e-01  8.576323e+05  6.372733e+05\n",
       "Ridge                6.986332e-01  8.763964e+05  6.546524e+05\n",
       "Lasso                6.986180e-01  8.764185e+05  6.545296e+05\n",
       "Linear               6.986178e-01  8.764187e+05  6.545295e+05\n",
       "ElasticNet           6.938162e-01  8.833727e+05  6.679718e+05\n",
       "Extra Tree           4.792756e-01  1.152012e+06  6.157500e+05\n",
       "AdaBoost             7.800536e-02  1.532911e+06  1.084544e+06\n",
       "mlp_regressor        7.167035e-03  1.590710e+06  1.125739e+06\n",
       "SVR                 -1.080753e-01  1.680496e+06  1.156712e+06\n",
       "SGD                 -1.171931e+32  1.728239e+22  1.727398e+22"
      ]
     },
     "execution_count": 95,
     "metadata": {},
     "output_type": "execute_result"
    }
   ],
   "source": [
    "algo_test(normalizex,y)"
   ]
  }
 ],
 "metadata": {
  "kernelspec": {
   "display_name": "Python 3 (ipykernel)",
   "language": "python",
   "name": "python3"
  },
  "language_info": {
   "codemirror_mode": {
    "name": "ipython",
    "version": 3
   },
   "file_extension": ".py",
   "mimetype": "text/x-python",
   "name": "python",
   "nbconvert_exporter": "python",
   "pygments_lexer": "ipython3",
   "version": "3.9.21"
  }
 },
 "nbformat": 4,
 "nbformat_minor": 5
}
